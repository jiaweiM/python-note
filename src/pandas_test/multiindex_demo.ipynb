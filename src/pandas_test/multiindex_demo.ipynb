{
 "cells": [
  {
   "cell_type": "code",
   "execution_count": 1,
   "metadata": {
    "collapsed": true
   },
   "outputs": [],
   "source": [
    "import pandas as pd"
   ]
  },
  {
   "cell_type": "code",
   "execution_count": 2,
   "outputs": [],
   "source": [
    "addresses = [\n",
    "    (\"8809 Flair Square\", \"Toddside\", \"IL\", \"37206\"),\n",
    "    (\"9901 Austin Street\", \"Toddside\", \"IL\", \"37206\"),\n",
    "    (\"905 Hogan Quarter\", \"Franklin\", \"IL\", \"37206\"),\n",
    "]"
   ],
   "metadata": {
    "collapsed": false,
    "pycharm": {
     "name": "#%%\n"
    }
   }
  },
  {
   "cell_type": "code",
   "execution_count": 3,
   "outputs": [
    {
     "data": {
      "text/plain": "MultiIndex([( '8809 Flair Square', 'Toddside', 'IL', '37206'),\n            ('9901 Austin Street', 'Toddside', 'IL', '37206'),\n            ( '905 Hogan Quarter', 'Franklin', 'IL', '37206')],\n           )"
     },
     "execution_count": 3,
     "metadata": {},
     "output_type": "execute_result"
    }
   ],
   "source": [
    "pd.MultiIndex.from_tuples(addresses)"
   ],
   "metadata": {
    "collapsed": false,
    "pycharm": {
     "name": "#%%\n"
    }
   }
  },
  {
   "cell_type": "code",
   "execution_count": 4,
   "outputs": [
    {
     "data": {
      "text/plain": "MultiIndex([( '8809 Flair Square', 'Toddside', 'IL', '37206'),\n            ('9901 Austin Street', 'Toddside', 'IL', '37206'),\n            ( '905 Hogan Quarter', 'Franklin', 'IL', '37206')],\n           names=['Street', 'City', 'State', 'Zip'])"
     },
     "execution_count": 4,
     "metadata": {},
     "output_type": "execute_result"
    }
   ],
   "source": [
    "# 可以给不同 level index 指定名称：\n",
    "\n",
    "row_index = pd.MultiIndex.from_tuples(tuples=addresses,\n",
    "                                      names=['Street', 'City', 'State', 'Zip'])\n",
    "row_index"
   ],
   "metadata": {
    "collapsed": false,
    "pycharm": {
     "name": "#%%\n"
    }
   }
  },
  {
   "cell_type": "code",
   "execution_count": 5,
   "outputs": [
    {
     "data": {
      "text/plain": "                                        Schools Cost of Living\nStreet             City     State Zip                         \n8809 Flair Square  Toddside IL    37206       A             B+\n9901 Austin Street Toddside IL    37206      C+              C\n905 Hogan Quarter  Franklin IL    37206      D-              A",
      "text/html": "<div>\n<style scoped>\n    .dataframe tbody tr th:only-of-type {\n        vertical-align: middle;\n    }\n\n    .dataframe tbody tr th {\n        vertical-align: top;\n    }\n\n    .dataframe thead th {\n        text-align: right;\n    }\n</style>\n<table border=\"1\" class=\"dataframe\">\n  <thead>\n    <tr style=\"text-align: right;\">\n      <th></th>\n      <th></th>\n      <th></th>\n      <th></th>\n      <th>Schools</th>\n      <th>Cost of Living</th>\n    </tr>\n    <tr>\n      <th>Street</th>\n      <th>City</th>\n      <th>State</th>\n      <th>Zip</th>\n      <th></th>\n      <th></th>\n    </tr>\n  </thead>\n  <tbody>\n    <tr>\n      <th>8809 Flair Square</th>\n      <th>Toddside</th>\n      <th>IL</th>\n      <th>37206</th>\n      <td>A</td>\n      <td>B+</td>\n    </tr>\n    <tr>\n      <th>9901 Austin Street</th>\n      <th>Toddside</th>\n      <th>IL</th>\n      <th>37206</th>\n      <td>C+</td>\n      <td>C</td>\n    </tr>\n    <tr>\n      <th>905 Hogan Quarter</th>\n      <th>Franklin</th>\n      <th>IL</th>\n      <th>37206</th>\n      <td>D-</td>\n      <td>A</td>\n    </tr>\n  </tbody>\n</table>\n</div>"
     },
     "execution_count": 5,
     "metadata": {},
     "output_type": "execute_result"
    }
   ],
   "source": [
    "data = [\n",
    "    [\"A\", \"B+\"],\n",
    "    [\"C+\", \"C\"],\n",
    "    [\"D-\", \"A\"],\n",
    "]\n",
    "columns = [\"Schools\", \"Cost of Living\"]\n",
    "area_grades = pd.DataFrame(data=data, index=row_index, columns=columns)\n",
    "area_grades"
   ],
   "metadata": {
    "collapsed": false,
    "pycharm": {
     "name": "#%%\n"
    }
   }
  },
  {
   "cell_type": "code",
   "execution_count": 6,
   "outputs": [
    {
     "data": {
      "text/plain": "Index(['Schools', 'Cost of Living'], dtype='object')"
     },
     "execution_count": 6,
     "metadata": {},
     "output_type": "execute_result"
    }
   ],
   "source": [
    "area_grades.columns"
   ],
   "metadata": {
    "collapsed": false,
    "pycharm": {
     "name": "#%%\n"
    }
   }
  },
  {
   "cell_type": "code",
   "execution_count": 7,
   "outputs": [
    {
     "data": {
      "text/plain": "MultiIndex([( 'Culture', 'Restaurants'),\n            ( 'Culture',     'Museums'),\n            ('Services',      'Police'),\n            ('Services',     'Schools')],\n           )"
     },
     "execution_count": 7,
     "metadata": {},
     "output_type": "execute_result"
    }
   ],
   "source": [
    "column_index = pd.MultiIndex.from_tuples(\n",
    "    [\n",
    "        (\"Culture\", \"Restaurants\"),\n",
    "        (\"Culture\", \"Museums\"),\n",
    "        (\"Services\", \"Police\"),\n",
    "        (\"Services\", \"Schools\"),\n",
    "    ]\n",
    ")\n",
    "column_index"
   ],
   "metadata": {
    "collapsed": false,
    "pycharm": {
     "name": "#%%\n"
    }
   }
  },
  {
   "cell_type": "code",
   "execution_count": 8,
   "outputs": [
    {
     "data": {
      "text/plain": "                                            Culture         Services        \n                                        Restaurants Museums   Police Schools\nStreet             City     State Zip                                       \n8809 Flair Square  Toddside IL    37206          C-      B+       B-       A\n9901 Austin Street Toddside IL    37206          D+       C        A      C+\n905 Hogan Quarter  Franklin IL    37206          A-       A       D+       F",
      "text/html": "<div>\n<style scoped>\n    .dataframe tbody tr th:only-of-type {\n        vertical-align: middle;\n    }\n\n    .dataframe tbody tr th {\n        vertical-align: top;\n    }\n\n    .dataframe thead tr th {\n        text-align: left;\n    }\n\n    .dataframe thead tr:last-of-type th {\n        text-align: right;\n    }\n</style>\n<table border=\"1\" class=\"dataframe\">\n  <thead>\n    <tr>\n      <th></th>\n      <th></th>\n      <th></th>\n      <th></th>\n      <th colspan=\"2\" halign=\"left\">Culture</th>\n      <th colspan=\"2\" halign=\"left\">Services</th>\n    </tr>\n    <tr>\n      <th></th>\n      <th></th>\n      <th></th>\n      <th></th>\n      <th>Restaurants</th>\n      <th>Museums</th>\n      <th>Police</th>\n      <th>Schools</th>\n    </tr>\n    <tr>\n      <th>Street</th>\n      <th>City</th>\n      <th>State</th>\n      <th>Zip</th>\n      <th></th>\n      <th></th>\n      <th></th>\n      <th></th>\n    </tr>\n  </thead>\n  <tbody>\n    <tr>\n      <th>8809 Flair Square</th>\n      <th>Toddside</th>\n      <th>IL</th>\n      <th>37206</th>\n      <td>C-</td>\n      <td>B+</td>\n      <td>B-</td>\n      <td>A</td>\n    </tr>\n    <tr>\n      <th>9901 Austin Street</th>\n      <th>Toddside</th>\n      <th>IL</th>\n      <th>37206</th>\n      <td>D+</td>\n      <td>C</td>\n      <td>A</td>\n      <td>C+</td>\n    </tr>\n    <tr>\n      <th>905 Hogan Quarter</th>\n      <th>Franklin</th>\n      <th>IL</th>\n      <th>37206</th>\n      <td>A-</td>\n      <td>A</td>\n      <td>D+</td>\n      <td>F</td>\n    </tr>\n  </tbody>\n</table>\n</div>"
     },
     "execution_count": 8,
     "metadata": {},
     "output_type": "execute_result"
    }
   ],
   "source": [
    "data = [\n",
    "    [\"C-\", \"B+\", \"B-\", \"A\"],\n",
    "    [\"D+\", \"C\", \"A\", \"C+\"],\n",
    "    [\"A-\", \"A\", \"D+\", \"F\"]\n",
    "]\n",
    "pd.DataFrame(data=data, index=row_index, columns=column_index)"
   ],
   "metadata": {
    "collapsed": false,
    "pycharm": {
     "name": "#%%\n"
    }
   }
  },
  {
   "cell_type": "code",
   "execution_count": 4,
   "outputs": [
    {
     "data": {
      "text/plain": "  Unnamed: 0        Unnamed: 1         Unnamed: 2      Culture Culture.1  \\\n0        NaN               NaN                NaN  Restaurants   Museums   \n1      State              City             Street          NaN       NaN   \n2         MO     Fisherborough     244 Tracy View           C+         F   \n3         SD  Port Curtisville  446 Cynthia Inlet           C-         B   \n4         WV       Jimenezview    432 John Common            A        A+   \n\n  Services Services.1  \n0   Police    Schools  \n1      NaN        NaN  \n2       D-         A+  \n3        B         D+  \n4        F          B  ",
      "text/html": "<div>\n<style scoped>\n    .dataframe tbody tr th:only-of-type {\n        vertical-align: middle;\n    }\n\n    .dataframe tbody tr th {\n        vertical-align: top;\n    }\n\n    .dataframe thead th {\n        text-align: right;\n    }\n</style>\n<table border=\"1\" class=\"dataframe\">\n  <thead>\n    <tr style=\"text-align: right;\">\n      <th></th>\n      <th>Unnamed: 0</th>\n      <th>Unnamed: 1</th>\n      <th>Unnamed: 2</th>\n      <th>Culture</th>\n      <th>Culture.1</th>\n      <th>Services</th>\n      <th>Services.1</th>\n    </tr>\n  </thead>\n  <tbody>\n    <tr>\n      <th>0</th>\n      <td>NaN</td>\n      <td>NaN</td>\n      <td>NaN</td>\n      <td>Restaurants</td>\n      <td>Museums</td>\n      <td>Police</td>\n      <td>Schools</td>\n    </tr>\n    <tr>\n      <th>1</th>\n      <td>State</td>\n      <td>City</td>\n      <td>Street</td>\n      <td>NaN</td>\n      <td>NaN</td>\n      <td>NaN</td>\n      <td>NaN</td>\n    </tr>\n    <tr>\n      <th>2</th>\n      <td>MO</td>\n      <td>Fisherborough</td>\n      <td>244 Tracy View</td>\n      <td>C+</td>\n      <td>F</td>\n      <td>D-</td>\n      <td>A+</td>\n    </tr>\n    <tr>\n      <th>3</th>\n      <td>SD</td>\n      <td>Port Curtisville</td>\n      <td>446 Cynthia Inlet</td>\n      <td>C-</td>\n      <td>B</td>\n      <td>B</td>\n      <td>D+</td>\n    </tr>\n    <tr>\n      <th>4</th>\n      <td>WV</td>\n      <td>Jimenezview</td>\n      <td>432 John Common</td>\n      <td>A</td>\n      <td>A+</td>\n      <td>F</td>\n      <td>B</td>\n    </tr>\n  </tbody>\n</table>\n</div>"
     },
     "execution_count": 4,
     "metadata": {},
     "output_type": "execute_result"
    }
   ],
   "source": [
    "neighborhoods = pd.read_csv('data/neighborhoods.csv')\n",
    "neighborhoods.head()"
   ],
   "metadata": {
    "collapsed": false,
    "pycharm": {
     "name": "#%%\n"
    }
   }
  },
  {
   "cell_type": "code",
   "execution_count": 5,
   "outputs": [
    {
     "data": {
      "text/plain": "                                             Culture         Services        \n                                         Restaurants Museums   Police Schools\nState City             Street                                                \nMO    Fisherborough    244 Tracy View             C+       F       D-      A+\nSD    Port Curtisville 446 Cynthia Inlet          C-       B        B      D+\nWV    Jimenezview      432 John Common             A      A+        F       B\nAK    Stevenshire      238 Andrew Rue             D-       A       A-      A-\nND    New Joshuaport   877 Walter Neck            D+      C-        B       B",
      "text/html": "<div>\n<style scoped>\n    .dataframe tbody tr th:only-of-type {\n        vertical-align: middle;\n    }\n\n    .dataframe tbody tr th {\n        vertical-align: top;\n    }\n\n    .dataframe thead tr th {\n        text-align: left;\n    }\n\n    .dataframe thead tr:last-of-type th {\n        text-align: right;\n    }\n</style>\n<table border=\"1\" class=\"dataframe\">\n  <thead>\n    <tr>\n      <th></th>\n      <th></th>\n      <th></th>\n      <th colspan=\"2\" halign=\"left\">Culture</th>\n      <th colspan=\"2\" halign=\"left\">Services</th>\n    </tr>\n    <tr>\n      <th></th>\n      <th></th>\n      <th></th>\n      <th>Restaurants</th>\n      <th>Museums</th>\n      <th>Police</th>\n      <th>Schools</th>\n    </tr>\n    <tr>\n      <th>State</th>\n      <th>City</th>\n      <th>Street</th>\n      <th></th>\n      <th></th>\n      <th></th>\n      <th></th>\n    </tr>\n  </thead>\n  <tbody>\n    <tr>\n      <th>MO</th>\n      <th>Fisherborough</th>\n      <th>244 Tracy View</th>\n      <td>C+</td>\n      <td>F</td>\n      <td>D-</td>\n      <td>A+</td>\n    </tr>\n    <tr>\n      <th>SD</th>\n      <th>Port Curtisville</th>\n      <th>446 Cynthia Inlet</th>\n      <td>C-</td>\n      <td>B</td>\n      <td>B</td>\n      <td>D+</td>\n    </tr>\n    <tr>\n      <th>WV</th>\n      <th>Jimenezview</th>\n      <th>432 John Common</th>\n      <td>A</td>\n      <td>A+</td>\n      <td>F</td>\n      <td>B</td>\n    </tr>\n    <tr>\n      <th>AK</th>\n      <th>Stevenshire</th>\n      <th>238 Andrew Rue</th>\n      <td>D-</td>\n      <td>A</td>\n      <td>A-</td>\n      <td>A-</td>\n    </tr>\n    <tr>\n      <th>ND</th>\n      <th>New Joshuaport</th>\n      <th>877 Walter Neck</th>\n      <td>D+</td>\n      <td>C-</td>\n      <td>B</td>\n      <td>B</td>\n    </tr>\n  </tbody>\n</table>\n</div>"
     },
     "execution_count": 5,
     "metadata": {},
     "output_type": "execute_result"
    }
   ],
   "source": [
    "neighborhoods = pd.read_csv('data/neighborhoods.csv', index_col=[0, 1, 2], header=[0, 1])\n",
    "neighborhoods.head()"
   ],
   "metadata": {
    "collapsed": false,
    "pycharm": {
     "name": "#%%\n"
    }
   }
  },
  {
   "cell_type": "code",
   "execution_count": 6,
   "outputs": [
    {
     "name": "stdout",
     "output_type": "stream",
     "text": [
      "<class 'pandas.core.frame.DataFrame'>\n",
      "MultiIndex: 251 entries, ('MO', 'Fisherborough', '244 Tracy View') to ('NE', 'South Kennethmouth', '346 Wallace Pass')\n",
      "Data columns (total 4 columns):\n",
      " #   Column                  Non-Null Count  Dtype \n",
      "---  ------                  --------------  ----- \n",
      " 0   (Culture, Restaurants)  251 non-null    object\n",
      " 1   (Culture, Museums)      251 non-null    object\n",
      " 2   (Services, Police)      251 non-null    object\n",
      " 3   (Services, Schools)     251 non-null    object\n",
      "dtypes: object(4)\n",
      "memory usage: 27.2+ KB\n"
     ]
    }
   ],
   "source": [
    "neighborhoods.info()"
   ],
   "metadata": {
    "collapsed": false,
    "pycharm": {
     "name": "#%%\n"
    }
   }
  },
  {
   "cell_type": "code",
   "execution_count": 7,
   "outputs": [
    {
     "data": {
      "text/plain": "MultiIndex([('MO',      'Fisherborough',        '244 Tracy View'),\n            ('SD',   'Port Curtisville',     '446 Cynthia Inlet'),\n            ('WV',        'Jimenezview',       '432 John Common'),\n            ('AK',        'Stevenshire',        '238 Andrew Rue'),\n            ('ND',     'New Joshuaport',       '877 Walter Neck'),\n            ('ID',         'Wellsville',   '696 Weber Stravenue'),\n            ('TN',          'Jodiburgh',    '285 Justin Corners'),\n            ('DC',   'Lake Christopher',   '607 Montoya Harbors'),\n            ('OH',          'Port Mike',      '041 Michael Neck'),\n            ('ND',         'Hardyburgh', '550 Gilmore Mountains'),\n            ...\n            ('AK',          'Scottstad',      '114 Jones Garden'),\n            ('IA',    'Port Willieport',  '320 Jennifer Mission'),\n            ('ME',         'Port Linda',        '692 Hill Glens'),\n            ('KS',         'Kaylamouth',       '483 Freeman Via'),\n            ('WA',     'Port Shawnfort',    '691 Winters Bridge'),\n            ('MI',      'North Matthew',      '055 Clayton Isle'),\n            ('MT',            'Chadton',     '601 Richards Road'),\n            ('SC',          'Diazmouth',     '385 Robin Harbors'),\n            ('VA',         'Laurentown',     '255 Gonzalez Land'),\n            ('NE', 'South Kennethmouth',      '346 Wallace Pass')],\n           names=['State', 'City', 'Street'], length=251)"
     },
     "execution_count": 7,
     "metadata": {},
     "output_type": "execute_result"
    }
   ],
   "source": [
    "neighborhoods.index"
   ],
   "metadata": {
    "collapsed": false,
    "pycharm": {
     "name": "#%%\n"
    }
   }
  },
  {
   "cell_type": "code",
   "execution_count": 8,
   "outputs": [
    {
     "data": {
      "text/plain": "MultiIndex([( 'Culture', 'Restaurants'),\n            ( 'Culture',     'Museums'),\n            ('Services',      'Police'),\n            ('Services',     'Schools')],\n           )"
     },
     "execution_count": 8,
     "metadata": {},
     "output_type": "execute_result"
    }
   ],
   "source": [
    "neighborhoods.columns"
   ],
   "metadata": {
    "collapsed": false,
    "pycharm": {
     "name": "#%%\n"
    }
   }
  },
  {
   "cell_type": "code",
   "execution_count": 9,
   "outputs": [
    {
     "data": {
      "text/plain": "FrozenList(['State', 'City', 'Street'])"
     },
     "execution_count": 9,
     "metadata": {},
     "output_type": "execute_result"
    }
   ],
   "source": [
    "neighborhoods.index.names"
   ],
   "metadata": {
    "collapsed": false,
    "pycharm": {
     "name": "#%%\n"
    }
   }
  },
  {
   "cell_type": "code",
   "execution_count": 10,
   "outputs": [
    {
     "data": {
      "text/plain": "Index(['Fisherborough', 'Port Curtisville', 'Jimenezview', 'Stevenshire',\n       'New Joshuaport', 'Wellsville', 'Jodiburgh', 'Lake Christopher',\n       'Port Mike', 'Hardyburgh',\n       ...\n       'Scottstad', 'Port Willieport', 'Port Linda', 'Kaylamouth',\n       'Port Shawnfort', 'North Matthew', 'Chadton', 'Diazmouth', 'Laurentown',\n       'South Kennethmouth'],\n      dtype='object', name='City', length=251)"
     },
     "execution_count": 10,
     "metadata": {},
     "output_type": "execute_result"
    }
   ],
   "source": [
    "neighborhoods.index.get_level_values(1)"
   ],
   "metadata": {
    "collapsed": false,
    "pycharm": {
     "name": "#%%\n"
    }
   }
  },
  {
   "cell_type": "code",
   "execution_count": 11,
   "outputs": [
    {
     "data": {
      "text/plain": "FrozenList([None, None])"
     },
     "execution_count": 11,
     "metadata": {},
     "output_type": "execute_result"
    }
   ],
   "source": [
    "neighborhoods.columns.names"
   ],
   "metadata": {
    "collapsed": false,
    "pycharm": {
     "name": "#%%\n"
    }
   }
  },
  {
   "cell_type": "code",
   "execution_count": 12,
   "outputs": [
    {
     "data": {
      "text/plain": "FrozenList(['Category', 'Subcategory'])"
     },
     "execution_count": 12,
     "metadata": {},
     "output_type": "execute_result"
    }
   ],
   "source": [
    "neighborhoods.columns.names = [\"Category\", \"Subcategory\"]\n",
    "neighborhoods.columns.names"
   ],
   "metadata": {
    "collapsed": false,
    "pycharm": {
     "name": "#%%\n"
    }
   }
  },
  {
   "cell_type": "code",
   "execution_count": 13,
   "outputs": [
    {
     "data": {
      "text/plain": "Category                                     Culture         Services        \nSubcategory                              Restaurants Museums   Police Schools\nState City             Street                                                \nMO    Fisherborough    244 Tracy View             C+       F       D-      A+\nSD    Port Curtisville 446 Cynthia Inlet          C-       B        B      D+\nWV    Jimenezview      432 John Common             A      A+        F       B\nAK    Stevenshire      238 Andrew Rue             D-       A       A-      A-\nND    New Joshuaport   877 Walter Neck            D+      C-        B       B",
      "text/html": "<div>\n<style scoped>\n    .dataframe tbody tr th:only-of-type {\n        vertical-align: middle;\n    }\n\n    .dataframe tbody tr th {\n        vertical-align: top;\n    }\n\n    .dataframe thead tr th {\n        text-align: left;\n    }\n\n    .dataframe thead tr:last-of-type th {\n        text-align: right;\n    }\n</style>\n<table border=\"1\" class=\"dataframe\">\n  <thead>\n    <tr>\n      <th></th>\n      <th></th>\n      <th>Category</th>\n      <th colspan=\"2\" halign=\"left\">Culture</th>\n      <th colspan=\"2\" halign=\"left\">Services</th>\n    </tr>\n    <tr>\n      <th></th>\n      <th></th>\n      <th>Subcategory</th>\n      <th>Restaurants</th>\n      <th>Museums</th>\n      <th>Police</th>\n      <th>Schools</th>\n    </tr>\n    <tr>\n      <th>State</th>\n      <th>City</th>\n      <th>Street</th>\n      <th></th>\n      <th></th>\n      <th></th>\n      <th></th>\n    </tr>\n  </thead>\n  <tbody>\n    <tr>\n      <th>MO</th>\n      <th>Fisherborough</th>\n      <th>244 Tracy View</th>\n      <td>C+</td>\n      <td>F</td>\n      <td>D-</td>\n      <td>A+</td>\n    </tr>\n    <tr>\n      <th>SD</th>\n      <th>Port Curtisville</th>\n      <th>446 Cynthia Inlet</th>\n      <td>C-</td>\n      <td>B</td>\n      <td>B</td>\n      <td>D+</td>\n    </tr>\n    <tr>\n      <th>WV</th>\n      <th>Jimenezview</th>\n      <th>432 John Common</th>\n      <td>A</td>\n      <td>A+</td>\n      <td>F</td>\n      <td>B</td>\n    </tr>\n    <tr>\n      <th>AK</th>\n      <th>Stevenshire</th>\n      <th>238 Andrew Rue</th>\n      <td>D-</td>\n      <td>A</td>\n      <td>A-</td>\n      <td>A-</td>\n    </tr>\n    <tr>\n      <th>ND</th>\n      <th>New Joshuaport</th>\n      <th>877 Walter Neck</th>\n      <td>D+</td>\n      <td>C-</td>\n      <td>B</td>\n      <td>B</td>\n    </tr>\n  </tbody>\n</table>\n</div>"
     },
     "execution_count": 13,
     "metadata": {},
     "output_type": "execute_result"
    }
   ],
   "source": [
    "neighborhoods.head()"
   ],
   "metadata": {
    "collapsed": false,
    "pycharm": {
     "name": "#%%\n"
    }
   }
  },
  {
   "cell_type": "code",
   "execution_count": 14,
   "outputs": [
    {
     "data": {
      "text/plain": "Category  Subcategory\nCulture   Restaurants    13\n          Museums        13\nServices  Police         13\n          Schools        13\ndtype: int64"
     },
     "execution_count": 14,
     "metadata": {},
     "output_type": "execute_result"
    }
   ],
   "source": [
    "neighborhoods.nunique()"
   ],
   "metadata": {
    "collapsed": false,
    "pycharm": {
     "name": "#%%\n"
    }
   }
  },
  {
   "cell_type": "code",
   "execution_count": 15,
   "outputs": [
    {
     "data": {
      "text/plain": "Category                                      Culture         Services        \nSubcategory                               Restaurants Museums   Police Schools\nState City           Street                                                   \nAK    Rowlandchester 386 Rebecca Cove              C-      A-       A+       C\n      Scottstad      082 Leblanc Freeway            D      C-        D      B+\n                     114 Jones Garden              D-      D-        D       D\n      Stevenshire    238 Andrew Rue                D-       A       A-      A-\nAL    Clarkland      430 Douglas Mission            A       F       C+      B+\n...                                               ...     ...      ...     ...\nWY    Lake Nicole    754 Weaver Turnpike            B      D-        B       D\n                     933 Jennifer Burg              C      A+       A-       C\n      Martintown     013 Bell Mills                C-       D       A-      B-\n      Port Jason     624 Faulkner Orchard          A-       F       C+      C+\n      Reneeshire     717 Patel Square               B      B+        D       A\n\n[251 rows x 4 columns]",
      "text/html": "<div>\n<style scoped>\n    .dataframe tbody tr th:only-of-type {\n        vertical-align: middle;\n    }\n\n    .dataframe tbody tr th {\n        vertical-align: top;\n    }\n\n    .dataframe thead tr th {\n        text-align: left;\n    }\n\n    .dataframe thead tr:last-of-type th {\n        text-align: right;\n    }\n</style>\n<table border=\"1\" class=\"dataframe\">\n  <thead>\n    <tr>\n      <th></th>\n      <th></th>\n      <th>Category</th>\n      <th colspan=\"2\" halign=\"left\">Culture</th>\n      <th colspan=\"2\" halign=\"left\">Services</th>\n    </tr>\n    <tr>\n      <th></th>\n      <th></th>\n      <th>Subcategory</th>\n      <th>Restaurants</th>\n      <th>Museums</th>\n      <th>Police</th>\n      <th>Schools</th>\n    </tr>\n    <tr>\n      <th>State</th>\n      <th>City</th>\n      <th>Street</th>\n      <th></th>\n      <th></th>\n      <th></th>\n      <th></th>\n    </tr>\n  </thead>\n  <tbody>\n    <tr>\n      <th rowspan=\"4\" valign=\"top\">AK</th>\n      <th>Rowlandchester</th>\n      <th>386 Rebecca Cove</th>\n      <td>C-</td>\n      <td>A-</td>\n      <td>A+</td>\n      <td>C</td>\n    </tr>\n    <tr>\n      <th rowspan=\"2\" valign=\"top\">Scottstad</th>\n      <th>082 Leblanc Freeway</th>\n      <td>D</td>\n      <td>C-</td>\n      <td>D</td>\n      <td>B+</td>\n    </tr>\n    <tr>\n      <th>114 Jones Garden</th>\n      <td>D-</td>\n      <td>D-</td>\n      <td>D</td>\n      <td>D</td>\n    </tr>\n    <tr>\n      <th>Stevenshire</th>\n      <th>238 Andrew Rue</th>\n      <td>D-</td>\n      <td>A</td>\n      <td>A-</td>\n      <td>A-</td>\n    </tr>\n    <tr>\n      <th>AL</th>\n      <th>Clarkland</th>\n      <th>430 Douglas Mission</th>\n      <td>A</td>\n      <td>F</td>\n      <td>C+</td>\n      <td>B+</td>\n    </tr>\n    <tr>\n      <th>...</th>\n      <th>...</th>\n      <th>...</th>\n      <td>...</td>\n      <td>...</td>\n      <td>...</td>\n      <td>...</td>\n    </tr>\n    <tr>\n      <th rowspan=\"5\" valign=\"top\">WY</th>\n      <th rowspan=\"2\" valign=\"top\">Lake Nicole</th>\n      <th>754 Weaver Turnpike</th>\n      <td>B</td>\n      <td>D-</td>\n      <td>B</td>\n      <td>D</td>\n    </tr>\n    <tr>\n      <th>933 Jennifer Burg</th>\n      <td>C</td>\n      <td>A+</td>\n      <td>A-</td>\n      <td>C</td>\n    </tr>\n    <tr>\n      <th>Martintown</th>\n      <th>013 Bell Mills</th>\n      <td>C-</td>\n      <td>D</td>\n      <td>A-</td>\n      <td>B-</td>\n    </tr>\n    <tr>\n      <th>Port Jason</th>\n      <th>624 Faulkner Orchard</th>\n      <td>A-</td>\n      <td>F</td>\n      <td>C+</td>\n      <td>C+</td>\n    </tr>\n    <tr>\n      <th>Reneeshire</th>\n      <th>717 Patel Square</th>\n      <td>B</td>\n      <td>B+</td>\n      <td>D</td>\n      <td>A</td>\n    </tr>\n  </tbody>\n</table>\n<p>251 rows × 4 columns</p>\n</div>"
     },
     "execution_count": 15,
     "metadata": {},
     "output_type": "execute_result"
    }
   ],
   "source": [
    "neighborhoods.sort_index()"
   ],
   "metadata": {
    "collapsed": false,
    "pycharm": {
     "name": "#%%\n"
    }
   }
  },
  {
   "cell_type": "code",
   "execution_count": 16,
   "outputs": [
    {
     "data": {
      "text/plain": "   X  Y\nA  1  2\nB  3  4",
      "text/html": "<div>\n<style scoped>\n    .dataframe tbody tr th:only-of-type {\n        vertical-align: middle;\n    }\n\n    .dataframe tbody tr th {\n        vertical-align: top;\n    }\n\n    .dataframe thead th {\n        text-align: right;\n    }\n</style>\n<table border=\"1\" class=\"dataframe\">\n  <thead>\n    <tr style=\"text-align: right;\">\n      <th></th>\n      <th>X</th>\n      <th>Y</th>\n    </tr>\n  </thead>\n  <tbody>\n    <tr>\n      <th>A</th>\n      <td>1</td>\n      <td>2</td>\n    </tr>\n    <tr>\n      <th>B</th>\n      <td>3</td>\n      <td>4</td>\n    </tr>\n  </tbody>\n</table>\n</div>"
     },
     "execution_count": 16,
     "metadata": {},
     "output_type": "execute_result"
    }
   ],
   "source": [
    "data = [\n",
    "    [1, 2],\n",
    "    [3, 4]\n",
    "]\n",
    "\n",
    "df = pd.DataFrame(\n",
    "    data=data, index=[\"A\", \"B\"], columns=[\"X\", \"Y\"]\n",
    ")\n",
    "df"
   ],
   "metadata": {
    "collapsed": false,
    "pycharm": {
     "name": "#%%\n"
    }
   }
  },
  {
   "cell_type": "code",
   "execution_count": 17,
   "outputs": [
    {
     "data": {
      "text/plain": "A    1\nB    3\nName: X, dtype: int64"
     },
     "execution_count": 17,
     "metadata": {},
     "output_type": "execute_result"
    }
   ],
   "source": [
    "df[\"X\"]"
   ],
   "metadata": {
    "collapsed": false,
    "pycharm": {
     "name": "#%%\n"
    }
   }
  },
  {
   "cell_type": "code",
   "execution_count": 18,
   "outputs": [
    {
     "data": {
      "text/plain": "Subcategory                                Police Schools\nState City               Street                          \nMO    Fisherborough      244 Tracy View        D-      A+\nSD    Port Curtisville   446 Cynthia Inlet      B      D+\nWV    Jimenezview        432 John Common        F       B\nAK    Stevenshire        238 Andrew Rue        A-      A-\nND    New Joshuaport     877 Walter Neck        B       B\n...                                           ...     ...\nMI    North Matthew      055 Clayton Isle       B      C+\nMT    Chadton            601 Richards Road     D+       D\nSC    Diazmouth          385 Robin Harbors     B-      D+\nVA    Laurentown         255 Gonzalez Land      F      D-\nNE    South Kennethmouth 346 Wallace Pass       A      A-\n\n[251 rows x 2 columns]",
      "text/html": "<div>\n<style scoped>\n    .dataframe tbody tr th:only-of-type {\n        vertical-align: middle;\n    }\n\n    .dataframe tbody tr th {\n        vertical-align: top;\n    }\n\n    .dataframe thead th {\n        text-align: right;\n    }\n</style>\n<table border=\"1\" class=\"dataframe\">\n  <thead>\n    <tr style=\"text-align: right;\">\n      <th></th>\n      <th></th>\n      <th>Subcategory</th>\n      <th>Police</th>\n      <th>Schools</th>\n    </tr>\n    <tr>\n      <th>State</th>\n      <th>City</th>\n      <th>Street</th>\n      <th></th>\n      <th></th>\n    </tr>\n  </thead>\n  <tbody>\n    <tr>\n      <th>MO</th>\n      <th>Fisherborough</th>\n      <th>244 Tracy View</th>\n      <td>D-</td>\n      <td>A+</td>\n    </tr>\n    <tr>\n      <th>SD</th>\n      <th>Port Curtisville</th>\n      <th>446 Cynthia Inlet</th>\n      <td>B</td>\n      <td>D+</td>\n    </tr>\n    <tr>\n      <th>WV</th>\n      <th>Jimenezview</th>\n      <th>432 John Common</th>\n      <td>F</td>\n      <td>B</td>\n    </tr>\n    <tr>\n      <th>AK</th>\n      <th>Stevenshire</th>\n      <th>238 Andrew Rue</th>\n      <td>A-</td>\n      <td>A-</td>\n    </tr>\n    <tr>\n      <th>ND</th>\n      <th>New Joshuaport</th>\n      <th>877 Walter Neck</th>\n      <td>B</td>\n      <td>B</td>\n    </tr>\n    <tr>\n      <th>...</th>\n      <th>...</th>\n      <th>...</th>\n      <td>...</td>\n      <td>...</td>\n    </tr>\n    <tr>\n      <th>MI</th>\n      <th>North Matthew</th>\n      <th>055 Clayton Isle</th>\n      <td>B</td>\n      <td>C+</td>\n    </tr>\n    <tr>\n      <th>MT</th>\n      <th>Chadton</th>\n      <th>601 Richards Road</th>\n      <td>D+</td>\n      <td>D</td>\n    </tr>\n    <tr>\n      <th>SC</th>\n      <th>Diazmouth</th>\n      <th>385 Robin Harbors</th>\n      <td>B-</td>\n      <td>D+</td>\n    </tr>\n    <tr>\n      <th>VA</th>\n      <th>Laurentown</th>\n      <th>255 Gonzalez Land</th>\n      <td>F</td>\n      <td>D-</td>\n    </tr>\n    <tr>\n      <th>NE</th>\n      <th>South Kennethmouth</th>\n      <th>346 Wallace Pass</th>\n      <td>A</td>\n      <td>A-</td>\n    </tr>\n  </tbody>\n</table>\n<p>251 rows × 2 columns</p>\n</div>"
     },
     "execution_count": 18,
     "metadata": {},
     "output_type": "execute_result"
    }
   ],
   "source": [
    "neighborhoods['Services']"
   ],
   "metadata": {
    "collapsed": false,
    "pycharm": {
     "name": "#%%\n"
    }
   }
  },
  {
   "cell_type": "code",
   "execution_count": 19,
   "outputs": [
    {
     "data": {
      "text/plain": "State  City                Street           \nMO     Fisherborough       244 Tracy View       A+\nSD     Port Curtisville    446 Cynthia Inlet    D+\nWV     Jimenezview         432 John Common       B\nAK     Stevenshire         238 Andrew Rue       A-\nND     New Joshuaport      877 Walter Neck       B\n                                                ..\nMI     North Matthew       055 Clayton Isle     C+\nMT     Chadton             601 Richards Road     D\nSC     Diazmouth           385 Robin Harbors    D+\nVA     Laurentown          255 Gonzalez Land    D-\nNE     South Kennethmouth  346 Wallace Pass     A-\nName: (Services, Schools), Length: 251, dtype: object"
     },
     "execution_count": 19,
     "metadata": {},
     "output_type": "execute_result"
    }
   ],
   "source": [
    "neighborhoods[(\"Services\", \"Schools\")]"
   ],
   "metadata": {
    "collapsed": false,
    "pycharm": {
     "name": "#%%\n"
    }
   }
  },
  {
   "cell_type": "code",
   "execution_count": 20,
   "outputs": [
    {
     "data": {
      "text/plain": "Category  Subcategory\nCulture   Restaurants     C\n          Museums        D+\nServices  Police          B\n          Schools         B\nName: (TX, Kingchester, 534 Gordon Falls), dtype: object"
     },
     "execution_count": 20,
     "metadata": {},
     "output_type": "execute_result"
    }
   ],
   "source": [
    "neighborhoods.loc[(\"TX\", \"Kingchester\", \"534 Gordon Falls\")]"
   ],
   "metadata": {
    "collapsed": false,
    "pycharm": {
     "name": "#%%\n"
    }
   }
  },
  {
   "cell_type": "code",
   "execution_count": 24,
   "outputs": [
    {
     "data": {
      "text/plain": "Category                                     Culture         Services        \nSubcategory                              Restaurants Museums   Police Schools\nState City             Street                                                \nMO    Fisherborough    244 Tracy View             C+       F       D-      A+\nSD    Port Curtisville 446 Cynthia Inlet          C-       B        B      D+\nWV    Jimenezview      432 John Common             A      A+        F       B\nAK    Stevenshire      238 Andrew Rue             D-       A       A-      A-\nND    New Joshuaport   877 Walter Neck            D+      C-        B       B",
      "text/html": "<div>\n<style scoped>\n    .dataframe tbody tr th:only-of-type {\n        vertical-align: middle;\n    }\n\n    .dataframe tbody tr th {\n        vertical-align: top;\n    }\n\n    .dataframe thead tr th {\n        text-align: left;\n    }\n\n    .dataframe thead tr:last-of-type th {\n        text-align: right;\n    }\n</style>\n<table border=\"1\" class=\"dataframe\">\n  <thead>\n    <tr>\n      <th></th>\n      <th></th>\n      <th>Category</th>\n      <th colspan=\"2\" halign=\"left\">Culture</th>\n      <th colspan=\"2\" halign=\"left\">Services</th>\n    </tr>\n    <tr>\n      <th></th>\n      <th></th>\n      <th>Subcategory</th>\n      <th>Restaurants</th>\n      <th>Museums</th>\n      <th>Police</th>\n      <th>Schools</th>\n    </tr>\n    <tr>\n      <th>State</th>\n      <th>City</th>\n      <th>Street</th>\n      <th></th>\n      <th></th>\n      <th></th>\n      <th></th>\n    </tr>\n  </thead>\n  <tbody>\n    <tr>\n      <th>MO</th>\n      <th>Fisherborough</th>\n      <th>244 Tracy View</th>\n      <td>C+</td>\n      <td>F</td>\n      <td>D-</td>\n      <td>A+</td>\n    </tr>\n    <tr>\n      <th>SD</th>\n      <th>Port Curtisville</th>\n      <th>446 Cynthia Inlet</th>\n      <td>C-</td>\n      <td>B</td>\n      <td>B</td>\n      <td>D+</td>\n    </tr>\n    <tr>\n      <th>WV</th>\n      <th>Jimenezview</th>\n      <th>432 John Common</th>\n      <td>A</td>\n      <td>A+</td>\n      <td>F</td>\n      <td>B</td>\n    </tr>\n    <tr>\n      <th>AK</th>\n      <th>Stevenshire</th>\n      <th>238 Andrew Rue</th>\n      <td>D-</td>\n      <td>A</td>\n      <td>A-</td>\n      <td>A-</td>\n    </tr>\n    <tr>\n      <th>ND</th>\n      <th>New Joshuaport</th>\n      <th>877 Walter Neck</th>\n      <td>D+</td>\n      <td>C-</td>\n      <td>B</td>\n      <td>B</td>\n    </tr>\n  </tbody>\n</table>\n</div>"
     },
     "execution_count": 24,
     "metadata": {},
     "output_type": "execute_result"
    }
   ],
   "source": [
    "neighborhoods.head()"
   ],
   "metadata": {
    "collapsed": false,
    "pycharm": {
     "name": "#%%\n"
    }
   }
  },
  {
   "cell_type": "code",
   "execution_count": 25,
   "outputs": [],
   "source": [
    "neighborhoods = neighborhoods.sort_index(ascending=True)"
   ],
   "metadata": {
    "collapsed": false,
    "pycharm": {
     "name": "#%%\n"
    }
   }
  },
  {
   "cell_type": "code",
   "execution_count": 26,
   "outputs": [
    {
     "data": {
      "text/plain": "Subcategory                               Police Schools\nState City           Street                             \nAK    Rowlandchester 386 Rebecca Cove         A+       C\n      Scottstad      082 Leblanc Freeway       D      B+\n                     114 Jones Garden          D       D\n      Stevenshire    238 Andrew Rue           A-      A-\nAL    Clarkland      430 Douglas Mission      C+      B+\n...                                          ...     ...\nWY    Lake Nicole    754 Weaver Turnpike       B       D\n                     933 Jennifer Burg        A-       C\n      Martintown     013 Bell Mills           A-      B-\n      Port Jason     624 Faulkner Orchard     C+      C+\n      Reneeshire     717 Patel Square          D       A\n\n[251 rows x 2 columns]",
      "text/html": "<div>\n<style scoped>\n    .dataframe tbody tr th:only-of-type {\n        vertical-align: middle;\n    }\n\n    .dataframe tbody tr th {\n        vertical-align: top;\n    }\n\n    .dataframe thead th {\n        text-align: right;\n    }\n</style>\n<table border=\"1\" class=\"dataframe\">\n  <thead>\n    <tr style=\"text-align: right;\">\n      <th></th>\n      <th></th>\n      <th>Subcategory</th>\n      <th>Police</th>\n      <th>Schools</th>\n    </tr>\n    <tr>\n      <th>State</th>\n      <th>City</th>\n      <th>Street</th>\n      <th></th>\n      <th></th>\n    </tr>\n  </thead>\n  <tbody>\n    <tr>\n      <th rowspan=\"4\" valign=\"top\">AK</th>\n      <th>Rowlandchester</th>\n      <th>386 Rebecca Cove</th>\n      <td>A+</td>\n      <td>C</td>\n    </tr>\n    <tr>\n      <th rowspan=\"2\" valign=\"top\">Scottstad</th>\n      <th>082 Leblanc Freeway</th>\n      <td>D</td>\n      <td>B+</td>\n    </tr>\n    <tr>\n      <th>114 Jones Garden</th>\n      <td>D</td>\n      <td>D</td>\n    </tr>\n    <tr>\n      <th>Stevenshire</th>\n      <th>238 Andrew Rue</th>\n      <td>A-</td>\n      <td>A-</td>\n    </tr>\n    <tr>\n      <th>AL</th>\n      <th>Clarkland</th>\n      <th>430 Douglas Mission</th>\n      <td>C+</td>\n      <td>B+</td>\n    </tr>\n    <tr>\n      <th>...</th>\n      <th>...</th>\n      <th>...</th>\n      <td>...</td>\n      <td>...</td>\n    </tr>\n    <tr>\n      <th rowspan=\"5\" valign=\"top\">WY</th>\n      <th rowspan=\"2\" valign=\"top\">Lake Nicole</th>\n      <th>754 Weaver Turnpike</th>\n      <td>B</td>\n      <td>D</td>\n    </tr>\n    <tr>\n      <th>933 Jennifer Burg</th>\n      <td>A-</td>\n      <td>C</td>\n    </tr>\n    <tr>\n      <th>Martintown</th>\n      <th>013 Bell Mills</th>\n      <td>A-</td>\n      <td>B-</td>\n    </tr>\n    <tr>\n      <th>Port Jason</th>\n      <th>624 Faulkner Orchard</th>\n      <td>C+</td>\n      <td>C+</td>\n    </tr>\n    <tr>\n      <th>Reneeshire</th>\n      <th>717 Patel Square</th>\n      <td>D</td>\n      <td>A</td>\n    </tr>\n  </tbody>\n</table>\n<p>251 rows × 2 columns</p>\n</div>"
     },
     "execution_count": 26,
     "metadata": {},
     "output_type": "execute_result"
    }
   ],
   "source": [
    "neighborhoods['Services']"
   ],
   "metadata": {
    "collapsed": false,
    "pycharm": {
     "name": "#%%\n"
    }
   }
  },
  {
   "cell_type": "code",
   "execution_count": 27,
   "outputs": [
    {
     "ename": "KeyError",
     "evalue": "'Schools'",
     "output_type": "error",
     "traceback": [
      "\u001B[1;31m---------------------------------------------------------------------------\u001B[0m",
      "\u001B[1;31mKeyError\u001B[0m                                  Traceback (most recent call last)",
      "\u001B[1;32mD:\\Python\\Python39\\lib\\site-packages\\pandas\\core\\indexes\\base.py\u001B[0m in \u001B[0;36mget_loc\u001B[1;34m(self, key, method, tolerance)\u001B[0m\n\u001B[0;32m   3360\u001B[0m             \u001B[1;32mtry\u001B[0m\u001B[1;33m:\u001B[0m\u001B[1;33m\u001B[0m\u001B[1;33m\u001B[0m\u001B[0m\n\u001B[1;32m-> 3361\u001B[1;33m                 \u001B[1;32mreturn\u001B[0m \u001B[0mself\u001B[0m\u001B[1;33m.\u001B[0m\u001B[0m_engine\u001B[0m\u001B[1;33m.\u001B[0m\u001B[0mget_loc\u001B[0m\u001B[1;33m(\u001B[0m\u001B[0mcasted_key\u001B[0m\u001B[1;33m)\u001B[0m\u001B[1;33m\u001B[0m\u001B[1;33m\u001B[0m\u001B[0m\n\u001B[0m\u001B[0;32m   3362\u001B[0m             \u001B[1;32mexcept\u001B[0m \u001B[0mKeyError\u001B[0m \u001B[1;32mas\u001B[0m \u001B[0merr\u001B[0m\u001B[1;33m:\u001B[0m\u001B[1;33m\u001B[0m\u001B[1;33m\u001B[0m\u001B[0m\n",
      "\u001B[1;32mD:\\Python\\Python39\\lib\\site-packages\\pandas\\_libs\\index.pyx\u001B[0m in \u001B[0;36mpandas._libs.index.IndexEngine.get_loc\u001B[1;34m()\u001B[0m\n",
      "\u001B[1;32mD:\\Python\\Python39\\lib\\site-packages\\pandas\\_libs\\index.pyx\u001B[0m in \u001B[0;36mpandas._libs.index.IndexEngine.get_loc\u001B[1;34m()\u001B[0m\n",
      "\u001B[1;32mpandas\\_libs\\hashtable_class_helper.pxi\u001B[0m in \u001B[0;36mpandas._libs.hashtable.PyObjectHashTable.get_item\u001B[1;34m()\u001B[0m\n",
      "\u001B[1;32mpandas\\_libs\\hashtable_class_helper.pxi\u001B[0m in \u001B[0;36mpandas._libs.hashtable.PyObjectHashTable.get_item\u001B[1;34m()\u001B[0m\n",
      "\u001B[1;31mKeyError\u001B[0m: 'Schools'",
      "\nThe above exception was the direct cause of the following exception:\n",
      "\u001B[1;31mKeyError\u001B[0m                                  Traceback (most recent call last)",
      "\u001B[1;32m~\\AppData\\Local\\Temp/ipykernel_38432/1753732567.py\u001B[0m in \u001B[0;36m<module>\u001B[1;34m\u001B[0m\n\u001B[1;32m----> 1\u001B[1;33m \u001B[0mneighborhoods\u001B[0m\u001B[1;33m[\u001B[0m\u001B[1;34m'Schools'\u001B[0m\u001B[1;33m]\u001B[0m\u001B[1;33m\u001B[0m\u001B[1;33m\u001B[0m\u001B[0m\n\u001B[0m",
      "\u001B[1;32mD:\\Python\\Python39\\lib\\site-packages\\pandas\\core\\frame.py\u001B[0m in \u001B[0;36m__getitem__\u001B[1;34m(self, key)\u001B[0m\n\u001B[0;32m   3455\u001B[0m         \u001B[1;32mif\u001B[0m \u001B[0mis_single_key\u001B[0m\u001B[1;33m:\u001B[0m\u001B[1;33m\u001B[0m\u001B[1;33m\u001B[0m\u001B[0m\n\u001B[0;32m   3456\u001B[0m             \u001B[1;32mif\u001B[0m \u001B[0mself\u001B[0m\u001B[1;33m.\u001B[0m\u001B[0mcolumns\u001B[0m\u001B[1;33m.\u001B[0m\u001B[0mnlevels\u001B[0m \u001B[1;33m>\u001B[0m \u001B[1;36m1\u001B[0m\u001B[1;33m:\u001B[0m\u001B[1;33m\u001B[0m\u001B[1;33m\u001B[0m\u001B[0m\n\u001B[1;32m-> 3457\u001B[1;33m                 \u001B[1;32mreturn\u001B[0m \u001B[0mself\u001B[0m\u001B[1;33m.\u001B[0m\u001B[0m_getitem_multilevel\u001B[0m\u001B[1;33m(\u001B[0m\u001B[0mkey\u001B[0m\u001B[1;33m)\u001B[0m\u001B[1;33m\u001B[0m\u001B[1;33m\u001B[0m\u001B[0m\n\u001B[0m\u001B[0;32m   3458\u001B[0m             \u001B[0mindexer\u001B[0m \u001B[1;33m=\u001B[0m \u001B[0mself\u001B[0m\u001B[1;33m.\u001B[0m\u001B[0mcolumns\u001B[0m\u001B[1;33m.\u001B[0m\u001B[0mget_loc\u001B[0m\u001B[1;33m(\u001B[0m\u001B[0mkey\u001B[0m\u001B[1;33m)\u001B[0m\u001B[1;33m\u001B[0m\u001B[1;33m\u001B[0m\u001B[0m\n\u001B[0;32m   3459\u001B[0m             \u001B[1;32mif\u001B[0m \u001B[0mis_integer\u001B[0m\u001B[1;33m(\u001B[0m\u001B[0mindexer\u001B[0m\u001B[1;33m)\u001B[0m\u001B[1;33m:\u001B[0m\u001B[1;33m\u001B[0m\u001B[1;33m\u001B[0m\u001B[0m\n",
      "\u001B[1;32mD:\\Python\\Python39\\lib\\site-packages\\pandas\\core\\frame.py\u001B[0m in \u001B[0;36m_getitem_multilevel\u001B[1;34m(self, key)\u001B[0m\n\u001B[0;32m   3506\u001B[0m     \u001B[1;32mdef\u001B[0m \u001B[0m_getitem_multilevel\u001B[0m\u001B[1;33m(\u001B[0m\u001B[0mself\u001B[0m\u001B[1;33m,\u001B[0m \u001B[0mkey\u001B[0m\u001B[1;33m)\u001B[0m\u001B[1;33m:\u001B[0m\u001B[1;33m\u001B[0m\u001B[1;33m\u001B[0m\u001B[0m\n\u001B[0;32m   3507\u001B[0m         \u001B[1;31m# self.columns is a MultiIndex\u001B[0m\u001B[1;33m\u001B[0m\u001B[1;33m\u001B[0m\u001B[0m\n\u001B[1;32m-> 3508\u001B[1;33m         \u001B[0mloc\u001B[0m \u001B[1;33m=\u001B[0m \u001B[0mself\u001B[0m\u001B[1;33m.\u001B[0m\u001B[0mcolumns\u001B[0m\u001B[1;33m.\u001B[0m\u001B[0mget_loc\u001B[0m\u001B[1;33m(\u001B[0m\u001B[0mkey\u001B[0m\u001B[1;33m)\u001B[0m\u001B[1;33m\u001B[0m\u001B[1;33m\u001B[0m\u001B[0m\n\u001B[0m\u001B[0;32m   3509\u001B[0m         \u001B[1;32mif\u001B[0m \u001B[0misinstance\u001B[0m\u001B[1;33m(\u001B[0m\u001B[0mloc\u001B[0m\u001B[1;33m,\u001B[0m \u001B[1;33m(\u001B[0m\u001B[0mslice\u001B[0m\u001B[1;33m,\u001B[0m \u001B[0mnp\u001B[0m\u001B[1;33m.\u001B[0m\u001B[0mndarray\u001B[0m\u001B[1;33m)\u001B[0m\u001B[1;33m)\u001B[0m\u001B[1;33m:\u001B[0m\u001B[1;33m\u001B[0m\u001B[1;33m\u001B[0m\u001B[0m\n\u001B[0;32m   3510\u001B[0m             \u001B[0mnew_columns\u001B[0m \u001B[1;33m=\u001B[0m \u001B[0mself\u001B[0m\u001B[1;33m.\u001B[0m\u001B[0mcolumns\u001B[0m\u001B[1;33m[\u001B[0m\u001B[0mloc\u001B[0m\u001B[1;33m]\u001B[0m\u001B[1;33m\u001B[0m\u001B[1;33m\u001B[0m\u001B[0m\n",
      "\u001B[1;32mD:\\Python\\Python39\\lib\\site-packages\\pandas\\core\\indexes\\multi.py\u001B[0m in \u001B[0;36mget_loc\u001B[1;34m(self, key, method)\u001B[0m\n\u001B[0;32m   2920\u001B[0m \u001B[1;33m\u001B[0m\u001B[0m\n\u001B[0;32m   2921\u001B[0m         \u001B[1;32mif\u001B[0m \u001B[1;32mnot\u001B[0m \u001B[0misinstance\u001B[0m\u001B[1;33m(\u001B[0m\u001B[0mkey\u001B[0m\u001B[1;33m,\u001B[0m \u001B[0mtuple\u001B[0m\u001B[1;33m)\u001B[0m\u001B[1;33m:\u001B[0m\u001B[1;33m\u001B[0m\u001B[1;33m\u001B[0m\u001B[0m\n\u001B[1;32m-> 2922\u001B[1;33m             \u001B[0mloc\u001B[0m \u001B[1;33m=\u001B[0m \u001B[0mself\u001B[0m\u001B[1;33m.\u001B[0m\u001B[0m_get_level_indexer\u001B[0m\u001B[1;33m(\u001B[0m\u001B[0mkey\u001B[0m\u001B[1;33m,\u001B[0m \u001B[0mlevel\u001B[0m\u001B[1;33m=\u001B[0m\u001B[1;36m0\u001B[0m\u001B[1;33m)\u001B[0m\u001B[1;33m\u001B[0m\u001B[1;33m\u001B[0m\u001B[0m\n\u001B[0m\u001B[0;32m   2923\u001B[0m             \u001B[1;32mreturn\u001B[0m \u001B[0m_maybe_to_slice\u001B[0m\u001B[1;33m(\u001B[0m\u001B[0mloc\u001B[0m\u001B[1;33m)\u001B[0m\u001B[1;33m\u001B[0m\u001B[1;33m\u001B[0m\u001B[0m\n\u001B[0;32m   2924\u001B[0m \u001B[1;33m\u001B[0m\u001B[0m\n",
      "\u001B[1;32mD:\\Python\\Python39\\lib\\site-packages\\pandas\\core\\indexes\\multi.py\u001B[0m in \u001B[0;36m_get_level_indexer\u001B[1;34m(self, key, level, indexer)\u001B[0m\n\u001B[0;32m   3202\u001B[0m         \u001B[1;32melse\u001B[0m\u001B[1;33m:\u001B[0m\u001B[1;33m\u001B[0m\u001B[1;33m\u001B[0m\u001B[0m\n\u001B[0;32m   3203\u001B[0m \u001B[1;33m\u001B[0m\u001B[0m\n\u001B[1;32m-> 3204\u001B[1;33m             \u001B[0midx\u001B[0m \u001B[1;33m=\u001B[0m \u001B[0mself\u001B[0m\u001B[1;33m.\u001B[0m\u001B[0m_get_loc_single_level_index\u001B[0m\u001B[1;33m(\u001B[0m\u001B[0mlevel_index\u001B[0m\u001B[1;33m,\u001B[0m \u001B[0mkey\u001B[0m\u001B[1;33m)\u001B[0m\u001B[1;33m\u001B[0m\u001B[1;33m\u001B[0m\u001B[0m\n\u001B[0m\u001B[0;32m   3205\u001B[0m \u001B[1;33m\u001B[0m\u001B[0m\n\u001B[0;32m   3206\u001B[0m             \u001B[1;32mif\u001B[0m \u001B[0mlevel\u001B[0m \u001B[1;33m>\u001B[0m \u001B[1;36m0\u001B[0m \u001B[1;32mor\u001B[0m \u001B[0mself\u001B[0m\u001B[1;33m.\u001B[0m\u001B[0m_lexsort_depth\u001B[0m \u001B[1;33m==\u001B[0m \u001B[1;36m0\u001B[0m\u001B[1;33m:\u001B[0m\u001B[1;33m\u001B[0m\u001B[1;33m\u001B[0m\u001B[0m\n",
      "\u001B[1;32mD:\\Python\\Python39\\lib\\site-packages\\pandas\\core\\indexes\\multi.py\u001B[0m in \u001B[0;36m_get_loc_single_level_index\u001B[1;34m(self, level_index, key)\u001B[0m\n\u001B[0;32m   2853\u001B[0m             \u001B[1;32mreturn\u001B[0m \u001B[1;33m-\u001B[0m\u001B[1;36m1\u001B[0m\u001B[1;33m\u001B[0m\u001B[1;33m\u001B[0m\u001B[0m\n\u001B[0;32m   2854\u001B[0m         \u001B[1;32melse\u001B[0m\u001B[1;33m:\u001B[0m\u001B[1;33m\u001B[0m\u001B[1;33m\u001B[0m\u001B[0m\n\u001B[1;32m-> 2855\u001B[1;33m             \u001B[1;32mreturn\u001B[0m \u001B[0mlevel_index\u001B[0m\u001B[1;33m.\u001B[0m\u001B[0mget_loc\u001B[0m\u001B[1;33m(\u001B[0m\u001B[0mkey\u001B[0m\u001B[1;33m)\u001B[0m\u001B[1;33m\u001B[0m\u001B[1;33m\u001B[0m\u001B[0m\n\u001B[0m\u001B[0;32m   2856\u001B[0m \u001B[1;33m\u001B[0m\u001B[0m\n\u001B[0;32m   2857\u001B[0m     \u001B[1;32mdef\u001B[0m \u001B[0mget_loc\u001B[0m\u001B[1;33m(\u001B[0m\u001B[0mself\u001B[0m\u001B[1;33m,\u001B[0m \u001B[0mkey\u001B[0m\u001B[1;33m,\u001B[0m \u001B[0mmethod\u001B[0m\u001B[1;33m=\u001B[0m\u001B[1;32mNone\u001B[0m\u001B[1;33m)\u001B[0m\u001B[1;33m:\u001B[0m\u001B[1;33m\u001B[0m\u001B[1;33m\u001B[0m\u001B[0m\n",
      "\u001B[1;32mD:\\Python\\Python39\\lib\\site-packages\\pandas\\core\\indexes\\base.py\u001B[0m in \u001B[0;36mget_loc\u001B[1;34m(self, key, method, tolerance)\u001B[0m\n\u001B[0;32m   3361\u001B[0m                 \u001B[1;32mreturn\u001B[0m \u001B[0mself\u001B[0m\u001B[1;33m.\u001B[0m\u001B[0m_engine\u001B[0m\u001B[1;33m.\u001B[0m\u001B[0mget_loc\u001B[0m\u001B[1;33m(\u001B[0m\u001B[0mcasted_key\u001B[0m\u001B[1;33m)\u001B[0m\u001B[1;33m\u001B[0m\u001B[1;33m\u001B[0m\u001B[0m\n\u001B[0;32m   3362\u001B[0m             \u001B[1;32mexcept\u001B[0m \u001B[0mKeyError\u001B[0m \u001B[1;32mas\u001B[0m \u001B[0merr\u001B[0m\u001B[1;33m:\u001B[0m\u001B[1;33m\u001B[0m\u001B[1;33m\u001B[0m\u001B[0m\n\u001B[1;32m-> 3363\u001B[1;33m                 \u001B[1;32mraise\u001B[0m \u001B[0mKeyError\u001B[0m\u001B[1;33m(\u001B[0m\u001B[0mkey\u001B[0m\u001B[1;33m)\u001B[0m \u001B[1;32mfrom\u001B[0m \u001B[0merr\u001B[0m\u001B[1;33m\u001B[0m\u001B[1;33m\u001B[0m\u001B[0m\n\u001B[0m\u001B[0;32m   3364\u001B[0m \u001B[1;33m\u001B[0m\u001B[0m\n\u001B[0;32m   3365\u001B[0m         \u001B[1;32mif\u001B[0m \u001B[0mis_scalar\u001B[0m\u001B[1;33m(\u001B[0m\u001B[0mkey\u001B[0m\u001B[1;33m)\u001B[0m \u001B[1;32mand\u001B[0m \u001B[0misna\u001B[0m\u001B[1;33m(\u001B[0m\u001B[0mkey\u001B[0m\u001B[1;33m)\u001B[0m \u001B[1;32mand\u001B[0m \u001B[1;32mnot\u001B[0m \u001B[0mself\u001B[0m\u001B[1;33m.\u001B[0m\u001B[0mhasnans\u001B[0m\u001B[1;33m:\u001B[0m\u001B[1;33m\u001B[0m\u001B[1;33m\u001B[0m\u001B[0m\n",
      "\u001B[1;31mKeyError\u001B[0m: 'Schools'"
     ]
    }
   ],
   "source": [
    "neighborhoods['Schools']"
   ],
   "metadata": {
    "collapsed": false,
    "pycharm": {
     "name": "#%%\n"
    }
   }
  },
  {
   "cell_type": "code",
   "execution_count": 28,
   "outputs": [
    {
     "data": {
      "text/plain": "State  City            Street              \nAK     Rowlandchester  386 Rebecca Cove         C\n       Scottstad       082 Leblanc Freeway     B+\n                       114 Jones Garden         D\n       Stevenshire     238 Andrew Rue          A-\nAL     Clarkland       430 Douglas Mission     B+\n                                               ..\nWY     Lake Nicole     754 Weaver Turnpike      D\n                       933 Jennifer Burg        C\n       Martintown      013 Bell Mills          B-\n       Port Jason      624 Faulkner Orchard    C+\n       Reneeshire      717 Patel Square         A\nName: (Services, Schools), Length: 251, dtype: object"
     },
     "execution_count": 28,
     "metadata": {},
     "output_type": "execute_result"
    }
   ],
   "source": [
    "neighborhoods[(\"Services\", \"Schools\")]"
   ],
   "metadata": {
    "collapsed": false,
    "pycharm": {
     "name": "#%%\n"
    }
   }
  },
  {
   "cell_type": "code",
   "execution_count": 29,
   "outputs": [
    {
     "data": {
      "text/plain": "Category                                  Services Culture\nSubcategory                                Schools Museums\nState City           Street                               \nAK    Rowlandchester 386 Rebecca Cove            C      A-\n      Scottstad      082 Leblanc Freeway        B+      C-\n                     114 Jones Garden            D      D-\n      Stevenshire    238 Andrew Rue             A-       A\nAL    Clarkland      430 Douglas Mission        B+       F\n...                                            ...     ...\nWY    Lake Nicole    754 Weaver Turnpike         D      D-\n                     933 Jennifer Burg           C      A+\n      Martintown     013 Bell Mills             B-       D\n      Port Jason     624 Faulkner Orchard       C+       F\n      Reneeshire     717 Patel Square            A      B+\n\n[251 rows x 2 columns]",
      "text/html": "<div>\n<style scoped>\n    .dataframe tbody tr th:only-of-type {\n        vertical-align: middle;\n    }\n\n    .dataframe tbody tr th {\n        vertical-align: top;\n    }\n\n    .dataframe thead tr th {\n        text-align: left;\n    }\n\n    .dataframe thead tr:last-of-type th {\n        text-align: right;\n    }\n</style>\n<table border=\"1\" class=\"dataframe\">\n  <thead>\n    <tr>\n      <th></th>\n      <th></th>\n      <th>Category</th>\n      <th>Services</th>\n      <th>Culture</th>\n    </tr>\n    <tr>\n      <th></th>\n      <th></th>\n      <th>Subcategory</th>\n      <th>Schools</th>\n      <th>Museums</th>\n    </tr>\n    <tr>\n      <th>State</th>\n      <th>City</th>\n      <th>Street</th>\n      <th></th>\n      <th></th>\n    </tr>\n  </thead>\n  <tbody>\n    <tr>\n      <th rowspan=\"4\" valign=\"top\">AK</th>\n      <th>Rowlandchester</th>\n      <th>386 Rebecca Cove</th>\n      <td>C</td>\n      <td>A-</td>\n    </tr>\n    <tr>\n      <th rowspan=\"2\" valign=\"top\">Scottstad</th>\n      <th>082 Leblanc Freeway</th>\n      <td>B+</td>\n      <td>C-</td>\n    </tr>\n    <tr>\n      <th>114 Jones Garden</th>\n      <td>D</td>\n      <td>D-</td>\n    </tr>\n    <tr>\n      <th>Stevenshire</th>\n      <th>238 Andrew Rue</th>\n      <td>A-</td>\n      <td>A</td>\n    </tr>\n    <tr>\n      <th>AL</th>\n      <th>Clarkland</th>\n      <th>430 Douglas Mission</th>\n      <td>B+</td>\n      <td>F</td>\n    </tr>\n    <tr>\n      <th>...</th>\n      <th>...</th>\n      <th>...</th>\n      <td>...</td>\n      <td>...</td>\n    </tr>\n    <tr>\n      <th rowspan=\"5\" valign=\"top\">WY</th>\n      <th rowspan=\"2\" valign=\"top\">Lake Nicole</th>\n      <th>754 Weaver Turnpike</th>\n      <td>D</td>\n      <td>D-</td>\n    </tr>\n    <tr>\n      <th>933 Jennifer Burg</th>\n      <td>C</td>\n      <td>A+</td>\n    </tr>\n    <tr>\n      <th>Martintown</th>\n      <th>013 Bell Mills</th>\n      <td>B-</td>\n      <td>D</td>\n    </tr>\n    <tr>\n      <th>Port Jason</th>\n      <th>624 Faulkner Orchard</th>\n      <td>C+</td>\n      <td>F</td>\n    </tr>\n    <tr>\n      <th>Reneeshire</th>\n      <th>717 Patel Square</th>\n      <td>A</td>\n      <td>B+</td>\n    </tr>\n  </tbody>\n</table>\n<p>251 rows × 2 columns</p>\n</div>"
     },
     "execution_count": 29,
     "metadata": {},
     "output_type": "execute_result"
    }
   ],
   "source": [
    "neighborhoods[[(\"Services\", \"Schools\"), (\"Culture\", \"Museums\")]]"
   ],
   "metadata": {
    "collapsed": false,
    "pycharm": {
     "name": "#%%\n"
    }
   }
  },
  {
   "cell_type": "code",
   "execution_count": 30,
   "outputs": [
    {
     "data": {
      "text/plain": "   X  Y\nA  1  2\nB  3  4",
      "text/html": "<div>\n<style scoped>\n    .dataframe tbody tr th:only-of-type {\n        vertical-align: middle;\n    }\n\n    .dataframe tbody tr th {\n        vertical-align: top;\n    }\n\n    .dataframe thead th {\n        text-align: right;\n    }\n</style>\n<table border=\"1\" class=\"dataframe\">\n  <thead>\n    <tr style=\"text-align: right;\">\n      <th></th>\n      <th>X</th>\n      <th>Y</th>\n    </tr>\n  </thead>\n  <tbody>\n    <tr>\n      <th>A</th>\n      <td>1</td>\n      <td>2</td>\n    </tr>\n    <tr>\n      <th>B</th>\n      <td>3</td>\n      <td>4</td>\n    </tr>\n  </tbody>\n</table>\n</div>"
     },
     "execution_count": 30,
     "metadata": {},
     "output_type": "execute_result"
    }
   ],
   "source": [
    "df"
   ],
   "metadata": {
    "collapsed": false,
    "pycharm": {
     "name": "#%%\n"
    }
   }
  },
  {
   "cell_type": "code",
   "execution_count": 31,
   "outputs": [
    {
     "data": {
      "text/plain": "X    1\nY    2\nName: A, dtype: int64"
     },
     "execution_count": 31,
     "metadata": {},
     "output_type": "execute_result"
    }
   ],
   "source": [
    "df.loc[\"A\"]"
   ],
   "metadata": {
    "collapsed": false,
    "pycharm": {
     "name": "#%%\n"
    }
   }
  },
  {
   "cell_type": "code",
   "execution_count": 32,
   "outputs": [
    {
     "data": {
      "text/plain": "Category  Subcategory\nCulture   Restaurants     C\n          Museums        D+\nServices  Police          B\n          Schools         B\nName: (TX, Kingchester, 534 Gordon Falls), dtype: object"
     },
     "execution_count": 32,
     "metadata": {},
     "output_type": "execute_result"
    }
   ],
   "source": [
    "neighborhoods.loc[(\"TX\", \"Kingchester\", \"534 Gordon Falls\")]"
   ],
   "metadata": {
    "collapsed": false,
    "pycharm": {
     "name": "#%%\n"
    }
   }
  },
  {
   "cell_type": "code",
   "execution_count": 33,
   "outputs": [
    {
     "data": {
      "text/plain": "Category                              Culture         Services        \nSubcategory                       Restaurants Museums   Police Schools\nCity           Street                                                 \nDustinmouth    793 Cynthia Square          A-      A+       C-       A\nNorth Jennifer 303 Alisha Road             D-      C+       C+      A+\nRyanfort       934 David Run                F      B+        F      D-",
      "text/html": "<div>\n<style scoped>\n    .dataframe tbody tr th:only-of-type {\n        vertical-align: middle;\n    }\n\n    .dataframe tbody tr th {\n        vertical-align: top;\n    }\n\n    .dataframe thead tr th {\n        text-align: left;\n    }\n\n    .dataframe thead tr:last-of-type th {\n        text-align: right;\n    }\n</style>\n<table border=\"1\" class=\"dataframe\">\n  <thead>\n    <tr>\n      <th></th>\n      <th>Category</th>\n      <th colspan=\"2\" halign=\"left\">Culture</th>\n      <th colspan=\"2\" halign=\"left\">Services</th>\n    </tr>\n    <tr>\n      <th></th>\n      <th>Subcategory</th>\n      <th>Restaurants</th>\n      <th>Museums</th>\n      <th>Police</th>\n      <th>Schools</th>\n    </tr>\n    <tr>\n      <th>City</th>\n      <th>Street</th>\n      <th></th>\n      <th></th>\n      <th></th>\n      <th></th>\n    </tr>\n  </thead>\n  <tbody>\n    <tr>\n      <th>Dustinmouth</th>\n      <th>793 Cynthia Square</th>\n      <td>A-</td>\n      <td>A+</td>\n      <td>C-</td>\n      <td>A</td>\n    </tr>\n    <tr>\n      <th>North Jennifer</th>\n      <th>303 Alisha Road</th>\n      <td>D-</td>\n      <td>C+</td>\n      <td>C+</td>\n      <td>A+</td>\n    </tr>\n    <tr>\n      <th>Ryanfort</th>\n      <th>934 David Run</th>\n      <td>F</td>\n      <td>B+</td>\n      <td>F</td>\n      <td>D-</td>\n    </tr>\n  </tbody>\n</table>\n</div>"
     },
     "execution_count": 33,
     "metadata": {},
     "output_type": "execute_result"
    }
   ],
   "source": [
    "neighborhoods.loc[\"CA\"]"
   ],
   "metadata": {
    "collapsed": false,
    "pycharm": {
     "name": "#%%\n"
    }
   }
  },
  {
   "cell_type": "code",
   "execution_count": 34,
   "outputs": [
    {
     "data": {
      "text/plain": "Category               Culture         Services        \nSubcategory        Restaurants Museums   Police Schools\nStreet                                                 \n793 Cynthia Square          A-      A+       C-       A",
      "text/html": "<div>\n<style scoped>\n    .dataframe tbody tr th:only-of-type {\n        vertical-align: middle;\n    }\n\n    .dataframe tbody tr th {\n        vertical-align: top;\n    }\n\n    .dataframe thead tr th {\n        text-align: left;\n    }\n\n    .dataframe thead tr:last-of-type th {\n        text-align: right;\n    }\n</style>\n<table border=\"1\" class=\"dataframe\">\n  <thead>\n    <tr>\n      <th>Category</th>\n      <th colspan=\"2\" halign=\"left\">Culture</th>\n      <th colspan=\"2\" halign=\"left\">Services</th>\n    </tr>\n    <tr>\n      <th>Subcategory</th>\n      <th>Restaurants</th>\n      <th>Museums</th>\n      <th>Police</th>\n      <th>Schools</th>\n    </tr>\n    <tr>\n      <th>Street</th>\n      <th></th>\n      <th></th>\n      <th></th>\n      <th></th>\n    </tr>\n  </thead>\n  <tbody>\n    <tr>\n      <th>793 Cynthia Square</th>\n      <td>A-</td>\n      <td>A+</td>\n      <td>C-</td>\n      <td>A</td>\n    </tr>\n  </tbody>\n</table>\n</div>"
     },
     "execution_count": 34,
     "metadata": {},
     "output_type": "execute_result"
    }
   ],
   "source": [
    "neighborhoods.loc[\"CA\", \"Dustinmouth\"]"
   ],
   "metadata": {
    "collapsed": false,
    "pycharm": {
     "name": "#%%\n"
    }
   }
  },
  {
   "cell_type": "code",
   "execution_count": 35,
   "outputs": [
    {
     "data": {
      "text/plain": "Subcategory                       Restaurants Museums\nCity           Street                                \nDustinmouth    793 Cynthia Square          A-      A+\nNorth Jennifer 303 Alisha Road             D-      C+\nRyanfort       934 David Run                F      B+",
      "text/html": "<div>\n<style scoped>\n    .dataframe tbody tr th:only-of-type {\n        vertical-align: middle;\n    }\n\n    .dataframe tbody tr th {\n        vertical-align: top;\n    }\n\n    .dataframe thead th {\n        text-align: right;\n    }\n</style>\n<table border=\"1\" class=\"dataframe\">\n  <thead>\n    <tr style=\"text-align: right;\">\n      <th></th>\n      <th>Subcategory</th>\n      <th>Restaurants</th>\n      <th>Museums</th>\n    </tr>\n    <tr>\n      <th>City</th>\n      <th>Street</th>\n      <th></th>\n      <th></th>\n    </tr>\n  </thead>\n  <tbody>\n    <tr>\n      <th>Dustinmouth</th>\n      <th>793 Cynthia Square</th>\n      <td>A-</td>\n      <td>A+</td>\n    </tr>\n    <tr>\n      <th>North Jennifer</th>\n      <th>303 Alisha Road</th>\n      <td>D-</td>\n      <td>C+</td>\n    </tr>\n    <tr>\n      <th>Ryanfort</th>\n      <th>934 David Run</th>\n      <td>F</td>\n      <td>B+</td>\n    </tr>\n  </tbody>\n</table>\n</div>"
     },
     "execution_count": 35,
     "metadata": {},
     "output_type": "execute_result"
    }
   ],
   "source": [
    "neighborhoods.loc[\"CA\", \"Culture\"]"
   ],
   "metadata": {
    "collapsed": false,
    "pycharm": {
     "name": "#%%\n"
    }
   }
  },
  {
   "cell_type": "code",
   "execution_count": 36,
   "outputs": [
    {
     "data": {
      "text/plain": "Category               Culture         Services        \nSubcategory        Restaurants Museums   Police Schools\nStreet                                                 \n793 Cynthia Square          A-      A+       C-       A",
      "text/html": "<div>\n<style scoped>\n    .dataframe tbody tr th:only-of-type {\n        vertical-align: middle;\n    }\n\n    .dataframe tbody tr th {\n        vertical-align: top;\n    }\n\n    .dataframe thead tr th {\n        text-align: left;\n    }\n\n    .dataframe thead tr:last-of-type th {\n        text-align: right;\n    }\n</style>\n<table border=\"1\" class=\"dataframe\">\n  <thead>\n    <tr>\n      <th>Category</th>\n      <th colspan=\"2\" halign=\"left\">Culture</th>\n      <th colspan=\"2\" halign=\"left\">Services</th>\n    </tr>\n    <tr>\n      <th>Subcategory</th>\n      <th>Restaurants</th>\n      <th>Museums</th>\n      <th>Police</th>\n      <th>Schools</th>\n    </tr>\n    <tr>\n      <th>Street</th>\n      <th></th>\n      <th></th>\n      <th></th>\n      <th></th>\n    </tr>\n  </thead>\n  <tbody>\n    <tr>\n      <th>793 Cynthia Square</th>\n      <td>A-</td>\n      <td>A+</td>\n      <td>C-</td>\n      <td>A</td>\n    </tr>\n  </tbody>\n</table>\n</div>"
     },
     "execution_count": 36,
     "metadata": {},
     "output_type": "execute_result"
    }
   ],
   "source": [
    "neighborhoods.loc[(\"CA\", \"Dustinmouth\")]"
   ],
   "metadata": {
    "collapsed": false,
    "pycharm": {
     "name": "#%%\n"
    }
   }
  },
  {
   "cell_type": "code",
   "execution_count": null,
   "outputs": [],
   "source": [],
   "metadata": {
    "collapsed": false,
    "pycharm": {
     "name": "#%%\n"
    }
   }
  }
 ],
 "metadata": {
  "kernelspec": {
   "display_name": "Python 3",
   "language": "python",
   "name": "python3"
  },
  "language_info": {
   "codemirror_mode": {
    "name": "ipython",
    "version": 2
   },
   "file_extension": ".py",
   "mimetype": "text/x-python",
   "name": "python",
   "nbconvert_exporter": "python",
   "pygments_lexer": "ipython2",
   "version": "2.7.6"
  }
 },
 "nbformat": 4,
 "nbformat_minor": 0
}