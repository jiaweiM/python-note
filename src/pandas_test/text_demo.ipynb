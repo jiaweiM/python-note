{
 "cells": [
  {
   "cell_type": "code",
   "execution_count": 1,
   "metadata": {
    "collapsed": true
   },
   "outputs": [],
   "source": [
    "import pandas as pd"
   ]
  },
  {
   "cell_type": "code",
   "execution_count": 2,
   "outputs": [
    {
     "data": {
      "text/plain": "                                      Name             Risk\n0               MARRIOT MARQUIS CHICAGO       Risk 1 (High)\n1                              JETS PIZZA   Risk 2 (Medium)\n2                               ROOM 1520      Risk 3 (Low)\n3                MARRIOT MARQUIS CHICAGO      Risk 1 (High)\n4                            CHARTWELLS       Risk 1 (High)\n...                                    ...              ...\n153805                         WOLCOTT'S      Risk 1 (High)\n153806     DUNKIN DONUTS/BASKIN-ROBBINS     Risk 2 (Medium)\n153807                           Cafe 608     Risk 1 (High)\n153808                        mr.daniel's     Risk 1 (High)\n153809                         TEMPO CAFE     Risk 1 (High)\n\n[153810 rows x 2 columns]",
      "text/html": "<div>\n<style scoped>\n    .dataframe tbody tr th:only-of-type {\n        vertical-align: middle;\n    }\n\n    .dataframe tbody tr th {\n        vertical-align: top;\n    }\n\n    .dataframe thead th {\n        text-align: right;\n    }\n</style>\n<table border=\"1\" class=\"dataframe\">\n  <thead>\n    <tr style=\"text-align: right;\">\n      <th></th>\n      <th>Name</th>\n      <th>Risk</th>\n    </tr>\n  </thead>\n  <tbody>\n    <tr>\n      <th>0</th>\n      <td>MARRIOT MARQUIS CHICAGO</td>\n      <td>Risk 1 (High)</td>\n    </tr>\n    <tr>\n      <th>1</th>\n      <td>JETS PIZZA</td>\n      <td>Risk 2 (Medium)</td>\n    </tr>\n    <tr>\n      <th>2</th>\n      <td>ROOM 1520</td>\n      <td>Risk 3 (Low)</td>\n    </tr>\n    <tr>\n      <th>3</th>\n      <td>MARRIOT MARQUIS CHICAGO</td>\n      <td>Risk 1 (High)</td>\n    </tr>\n    <tr>\n      <th>4</th>\n      <td>CHARTWELLS</td>\n      <td>Risk 1 (High)</td>\n    </tr>\n    <tr>\n      <th>...</th>\n      <td>...</td>\n      <td>...</td>\n    </tr>\n    <tr>\n      <th>153805</th>\n      <td>WOLCOTT'S</td>\n      <td>Risk 1 (High)</td>\n    </tr>\n    <tr>\n      <th>153806</th>\n      <td>DUNKIN DONUTS/BASKIN-ROBBINS</td>\n      <td>Risk 2 (Medium)</td>\n    </tr>\n    <tr>\n      <th>153807</th>\n      <td>Cafe 608</td>\n      <td>Risk 1 (High)</td>\n    </tr>\n    <tr>\n      <th>153808</th>\n      <td>mr.daniel's</td>\n      <td>Risk 1 (High)</td>\n    </tr>\n    <tr>\n      <th>153809</th>\n      <td>TEMPO CAFE</td>\n      <td>Risk 1 (High)</td>\n    </tr>\n  </tbody>\n</table>\n<p>153810 rows × 2 columns</p>\n</div>"
     },
     "execution_count": 2,
     "metadata": {},
     "output_type": "execute_result"
    }
   ],
   "source": [
    "inspections = pd.read_csv('data/chicago_food_inspections.csv')\n",
    "inspections"
   ],
   "metadata": {
    "collapsed": false,
    "pycharm": {
     "name": "#%%\n"
    }
   }
  },
  {
   "cell_type": "code",
   "execution_count": 3,
   "outputs": [
    {
     "data": {
      "text/plain": "0     MARRIOT MARQUIS CHICAGO   \n1                    JETS PIZZA \n2                     ROOM 1520 \n3      MARRIOT MARQUIS CHICAGO  \n4                  CHARTWELLS   \nName: Name, dtype: object"
     },
     "execution_count": 3,
     "metadata": {},
     "output_type": "execute_result"
    }
   ],
   "source": [
    "inspections['Name'].head()"
   ],
   "metadata": {
    "collapsed": false,
    "pycharm": {
     "name": "#%%\n"
    }
   }
  },
  {
   "cell_type": "code",
   "execution_count": 4,
   "outputs": [
    {
     "data": {
      "text/plain": "array([' MARRIOT MARQUIS CHICAGO   ', ' JETS PIZZA ', '   ROOM 1520 ',\n       '  MARRIOT MARQUIS CHICAGO  ', ' CHARTWELLS   '], dtype=object)"
     },
     "execution_count": 4,
     "metadata": {},
     "output_type": "execute_result"
    }
   ],
   "source": [
    "inspections['Name'].head().values"
   ],
   "metadata": {
    "collapsed": false,
    "pycharm": {
     "name": "#%%\n"
    }
   }
  },
  {
   "cell_type": "code",
   "execution_count": 5,
   "outputs": [
    {
     "data": {
      "text/plain": "0    MARRIOT MARQUIS CHICAGO   \n1                   JETS PIZZA \n2                    ROOM 1520 \n3     MARRIOT MARQUIS CHICAGO  \n4                 CHARTWELLS   \nName: Name, dtype: object"
     },
     "execution_count": 5,
     "metadata": {},
     "output_type": "execute_result"
    }
   ],
   "source": [
    "inspections['Name'].str.lstrip().head()"
   ],
   "metadata": {
    "collapsed": false,
    "pycharm": {
     "name": "#%%\n"
    }
   }
  },
  {
   "cell_type": "code",
   "execution_count": 6,
   "outputs": [],
   "source": [
    "inspections['Name'] = inspections['Name'].str.strip()"
   ],
   "metadata": {
    "collapsed": false,
    "pycharm": {
     "name": "#%%\n"
    }
   }
  },
  {
   "cell_type": "code",
   "execution_count": 7,
   "outputs": [
    {
     "data": {
      "text/plain": "Index(['Name', 'Risk'], dtype='object')"
     },
     "execution_count": 7,
     "metadata": {},
     "output_type": "execute_result"
    }
   ],
   "source": [
    "inspections.columns"
   ],
   "metadata": {
    "collapsed": false,
    "pycharm": {
     "name": "#%%\n"
    }
   }
  },
  {
   "cell_type": "code",
   "execution_count": 8,
   "outputs": [
    {
     "data": {
      "text/plain": "Name    object\nRisk    object\ndtype: object"
     },
     "execution_count": 8,
     "metadata": {},
     "output_type": "execute_result"
    }
   ],
   "source": [
    "inspections.dtypes"
   ],
   "metadata": {
    "collapsed": false,
    "pycharm": {
     "name": "#%%\n"
    }
   }
  },
  {
   "cell_type": "code",
   "execution_count": 9,
   "outputs": [],
   "source": [
    "for column in inspections.columns:\n",
    "    inspections[column] = inspections[column].str.strip()"
   ],
   "metadata": {
    "collapsed": false,
    "pycharm": {
     "name": "#%%\n"
    }
   }
  },
  {
   "cell_type": "code",
   "execution_count": 10,
   "outputs": [
    {
     "data": {
      "text/plain": "0    marriot marquis chicago\n1                 jets pizza\n2                  room 1520\n3    marriot marquis chicago\n4                 chartwells\nName: Name, dtype: object"
     },
     "execution_count": 10,
     "metadata": {},
     "output_type": "execute_result"
    }
   ],
   "source": [
    "inspections['Name'].str.lower().head()"
   ],
   "metadata": {
    "collapsed": false,
    "pycharm": {
     "name": "#%%\n"
    }
   }
  },
  {
   "cell_type": "code",
   "execution_count": 11,
   "outputs": [
    {
     "data": {
      "text/plain": "0    Marriot Marquis Chicago\n1                 Jets Pizza\n2                  Room 1520\n3    Marriot Marquis Chicago\n4                 Chartwells\nName: Name, dtype: object"
     },
     "execution_count": 11,
     "metadata": {},
     "output_type": "execute_result"
    }
   ],
   "source": [
    "inspections['Name'].str.title().head()"
   ],
   "metadata": {
    "collapsed": false,
    "pycharm": {
     "name": "#%%\n"
    }
   }
  },
  {
   "cell_type": "code",
   "execution_count": 12,
   "outputs": [
    {
     "data": {
      "text/plain": "0           Risk 1 (High)\n1         Risk 2 (Medium)\n2            Risk 3 (Low)\n3           Risk 1 (High)\n4           Risk 1 (High)\n               ...       \n153805      Risk 1 (High)\n153806    Risk 2 (Medium)\n153807      Risk 1 (High)\n153808      Risk 1 (High)\n153809      Risk 1 (High)\nName: Risk, Length: 153810, dtype: object"
     },
     "execution_count": 12,
     "metadata": {},
     "output_type": "execute_result"
    }
   ],
   "source": [
    "inspections['Risk']"
   ],
   "metadata": {
    "collapsed": false,
    "pycharm": {
     "name": "#%%\n"
    }
   }
  },
  {
   "cell_type": "code",
   "execution_count": 13,
   "outputs": [
    {
     "data": {
      "text/plain": "4"
     },
     "execution_count": 13,
     "metadata": {},
     "output_type": "execute_result"
    }
   ],
   "source": [
    "inspections['Risk'].nunique()"
   ],
   "metadata": {
    "collapsed": false,
    "pycharm": {
     "name": "#%%\n"
    }
   }
  },
  {
   "cell_type": "code",
   "execution_count": 14,
   "outputs": [
    {
     "data": {
      "text/plain": "array(['Risk 1 (High)', 'Risk 2 (Medium)', 'Risk 3 (Low)', 'All', nan],\n      dtype=object)"
     },
     "execution_count": 14,
     "metadata": {},
     "output_type": "execute_result"
    }
   ],
   "source": [
    "inspections['Risk'].unique()"
   ],
   "metadata": {
    "collapsed": false,
    "pycharm": {
     "name": "#%%\n"
    }
   }
  },
  {
   "cell_type": "code",
   "execution_count": 15,
   "outputs": [],
   "source": [
    "inspections = inspections.dropna(subset=['Risk'])"
   ],
   "metadata": {
    "collapsed": false,
    "pycharm": {
     "name": "#%%\n"
    }
   }
  },
  {
   "cell_type": "code",
   "execution_count": 16,
   "outputs": [
    {
     "data": {
      "text/plain": "array(['Risk 1 (High)', 'Risk 2 (Medium)', 'Risk 3 (Low)', 'All'],\n      dtype=object)"
     },
     "execution_count": 16,
     "metadata": {},
     "output_type": "execute_result"
    }
   ],
   "source": [
    "inspections['Risk'].unique()"
   ],
   "metadata": {
    "collapsed": false,
    "pycharm": {
     "name": "#%%\n"
    }
   }
  },
  {
   "cell_type": "code",
   "execution_count": 17,
   "outputs": [],
   "source": [
    "inspections = inspections.replace(to_replace=\"All\", value=\"Risk 4 (Extreme)\")"
   ],
   "metadata": {
    "collapsed": false,
    "pycharm": {
     "name": "#%%\n"
    }
   }
  },
  {
   "cell_type": "code",
   "execution_count": 18,
   "outputs": [
    {
     "data": {
      "text/plain": "array(['Risk 1 (High)', 'Risk 2 (Medium)', 'Risk 3 (Low)',\n       'Risk 4 (Extreme)'], dtype=object)"
     },
     "execution_count": 18,
     "metadata": {},
     "output_type": "execute_result"
    }
   ],
   "source": [
    "inspections['Risk'].unique()"
   ],
   "metadata": {
    "collapsed": false,
    "pycharm": {
     "name": "#%%\n"
    }
   }
  },
  {
   "cell_type": "code",
   "execution_count": 19,
   "outputs": [
    {
     "data": {
      "text/plain": "0    1\n1    2\n2    3\n3    1\n4    1\nName: Risk, dtype: object"
     },
     "execution_count": 19,
     "metadata": {},
     "output_type": "execute_result"
    }
   ],
   "source": [
    "inspections['Risk'].str.slice(5, 6).head()"
   ],
   "metadata": {
    "collapsed": false,
    "pycharm": {
     "name": "#%%\n"
    }
   }
  },
  {
   "cell_type": "code",
   "execution_count": 20,
   "outputs": [
    {
     "data": {
      "text/plain": "0    1\n1    2\n2    3\n3    1\n4    1\nName: Risk, dtype: object"
     },
     "execution_count": 20,
     "metadata": {},
     "output_type": "execute_result"
    }
   ],
   "source": [
    "inspections['Risk'].str[5:6].head()"
   ],
   "metadata": {
    "collapsed": false,
    "pycharm": {
     "name": "#%%\n"
    }
   }
  },
  {
   "cell_type": "code",
   "execution_count": 21,
   "outputs": [
    {
     "data": {
      "text/plain": "0      High)\n1    Medium)\n2       Low)\n3      High)\n4      High)\nName: Risk, dtype: object"
     },
     "execution_count": 21,
     "metadata": {},
     "output_type": "execute_result"
    }
   ],
   "source": [
    "inspections['Risk'].str.slice(8).head()"
   ],
   "metadata": {
    "collapsed": false,
    "pycharm": {
     "name": "#%%\n"
    }
   }
  },
  {
   "cell_type": "code",
   "execution_count": 23,
   "outputs": [
    {
     "data": {
      "text/plain": "0      High\n1    Medium\n2       Low\n3      High\n4      High\nName: Risk, dtype: object"
     },
     "execution_count": 23,
     "metadata": {},
     "output_type": "execute_result"
    }
   ],
   "source": [
    "inspections['Risk'].str.slice(8, -1).head()"
   ],
   "metadata": {
    "collapsed": false,
    "pycharm": {
     "name": "#%%\n"
    }
   }
  },
  {
   "cell_type": "code",
   "execution_count": 24,
   "outputs": [
    {
     "name": "stderr",
     "output_type": "stream",
     "text": [
      "C:\\Users\\happy\\AppData\\Local\\Temp/ipykernel_40172/1114941877.py:1: FutureWarning: The default value of regex will change from True to False in a future version. In addition, single character regular expressions will *not* be treated as literal strings when regex=True.\n",
      "  inspections['Risk'].str.slice(8).str.replace(\")\", \"\").head()\n"
     ]
    },
    {
     "data": {
      "text/plain": "0      High\n1    Medium\n2       Low\n3      High\n4      High\nName: Risk, dtype: object"
     },
     "execution_count": 24,
     "metadata": {},
     "output_type": "execute_result"
    }
   ],
   "source": [
    "inspections['Risk'].str.slice(8).str.replace(\")\", \"\").head()"
   ],
   "metadata": {
    "collapsed": false,
    "pycharm": {
     "name": "#%%\n"
    }
   }
  },
  {
   "cell_type": "code",
   "execution_count": 25,
   "outputs": [
    {
     "data": {
      "text/plain": "0    False\n1     True\n2    False\n3    False\n4    False\nName: Name, dtype: bool"
     },
     "execution_count": 25,
     "metadata": {},
     "output_type": "execute_result"
    }
   ],
   "source": [
    "inspections['Name'].str.lower().str.contains(\"pizza\").head()"
   ],
   "metadata": {
    "collapsed": false,
    "pycharm": {
     "name": "#%%\n"
    }
   }
  },
  {
   "cell_type": "code",
   "execution_count": 26,
   "outputs": [
    {
     "data": {
      "text/plain": "                                    Name             Risk\n1                             JETS PIZZA  Risk 2 (Medium)\n19         NANCY'S HOME OF STUFFED PIZZA    Risk 1 (High)\n27            NARY'S GRILL & PIZZA ,INC.    Risk 1 (High)\n29                   NARYS GRILL & PIZZA    Risk 1 (High)\n68                         COLUTAS PIZZA    Risk 1 (High)\n...                                  ...              ...\n153756       ANGELO'S STUFFED PIZZA CORP    Risk 1 (High)\n153764                COCHIAROS PIZZA #2    Risk 1 (High)\n153772  FERNANDO'S MEXICAN GRILL & PIZZA    Risk 1 (High)\n153788            REGGIO'S PIZZA EXPRESS    Risk 1 (High)\n153801        State Street Pizza Company    Risk 1 (High)\n\n[3992 rows x 2 columns]",
      "text/html": "<div>\n<style scoped>\n    .dataframe tbody tr th:only-of-type {\n        vertical-align: middle;\n    }\n\n    .dataframe tbody tr th {\n        vertical-align: top;\n    }\n\n    .dataframe thead th {\n        text-align: right;\n    }\n</style>\n<table border=\"1\" class=\"dataframe\">\n  <thead>\n    <tr style=\"text-align: right;\">\n      <th></th>\n      <th>Name</th>\n      <th>Risk</th>\n    </tr>\n  </thead>\n  <tbody>\n    <tr>\n      <th>1</th>\n      <td>JETS PIZZA</td>\n      <td>Risk 2 (Medium)</td>\n    </tr>\n    <tr>\n      <th>19</th>\n      <td>NANCY'S HOME OF STUFFED PIZZA</td>\n      <td>Risk 1 (High)</td>\n    </tr>\n    <tr>\n      <th>27</th>\n      <td>NARY'S GRILL &amp; PIZZA ,INC.</td>\n      <td>Risk 1 (High)</td>\n    </tr>\n    <tr>\n      <th>29</th>\n      <td>NARYS GRILL &amp; PIZZA</td>\n      <td>Risk 1 (High)</td>\n    </tr>\n    <tr>\n      <th>68</th>\n      <td>COLUTAS PIZZA</td>\n      <td>Risk 1 (High)</td>\n    </tr>\n    <tr>\n      <th>...</th>\n      <td>...</td>\n      <td>...</td>\n    </tr>\n    <tr>\n      <th>153756</th>\n      <td>ANGELO'S STUFFED PIZZA CORP</td>\n      <td>Risk 1 (High)</td>\n    </tr>\n    <tr>\n      <th>153764</th>\n      <td>COCHIAROS PIZZA #2</td>\n      <td>Risk 1 (High)</td>\n    </tr>\n    <tr>\n      <th>153772</th>\n      <td>FERNANDO'S MEXICAN GRILL &amp; PIZZA</td>\n      <td>Risk 1 (High)</td>\n    </tr>\n    <tr>\n      <th>153788</th>\n      <td>REGGIO'S PIZZA EXPRESS</td>\n      <td>Risk 1 (High)</td>\n    </tr>\n    <tr>\n      <th>153801</th>\n      <td>State Street Pizza Company</td>\n      <td>Risk 1 (High)</td>\n    </tr>\n  </tbody>\n</table>\n<p>3992 rows × 2 columns</p>\n</div>"
     },
     "execution_count": 26,
     "metadata": {},
     "output_type": "execute_result"
    }
   ],
   "source": [
    "has_pizza = inspections['Name'].str.lower().str.contains(\"pizza\")\n",
    "inspections[has_pizza]"
   ],
   "metadata": {
    "collapsed": false,
    "pycharm": {
     "name": "#%%\n"
    }
   }
  },
  {
   "cell_type": "code",
   "execution_count": null,
   "outputs": [],
   "source": [],
   "metadata": {
    "collapsed": false,
    "pycharm": {
     "name": "#%%\n"
    }
   }
  }
 ],
 "metadata": {
  "kernelspec": {
   "display_name": "Python 3",
   "language": "python",
   "name": "python3"
  },
  "language_info": {
   "codemirror_mode": {
    "name": "ipython",
    "version": 2
   },
   "file_extension": ".py",
   "mimetype": "text/x-python",
   "name": "python",
   "nbconvert_exporter": "python",
   "pygments_lexer": "ipython2",
   "version": "2.7.6"
  }
 },
 "nbformat": 4,
 "nbformat_minor": 0
}