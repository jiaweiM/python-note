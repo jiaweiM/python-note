{
 "cells": [
  {
   "cell_type": "code",
   "execution_count": 1,
   "metadata": {
    "collapsed": true
   },
   "outputs": [],
   "source": [
    "import pandas as pd\n",
    "\n",
    "customers = pd.read_csv('data/customers.csv')"
   ]
  },
  {
   "cell_type": "code",
   "execution_count": 2,
   "outputs": [
    {
     "data": {
      "text/plain": "                  Name                                            Address\n0        Frank Manning  6461 Quinn Groves, East Matthew, New Hampshire...\n1    Elizabeth Johnson  1360 Tracey Ports Apt. 419, Kyleport, Vermont,...\n2      Donald Stephens  19120 Fleming Manors, Prestonstad, Montana, 23495\n3  Michael Vincent III       441 Olivia Creek, Jimmymouth, Georgia, 82991\n4       Jasmine Zamora  4246 Chelsey Ford Apt. 310, Karamouth, Utah, 7...",
      "text/html": "<div>\n<style scoped>\n    .dataframe tbody tr th:only-of-type {\n        vertical-align: middle;\n    }\n\n    .dataframe tbody tr th {\n        vertical-align: top;\n    }\n\n    .dataframe thead th {\n        text-align: right;\n    }\n</style>\n<table border=\"1\" class=\"dataframe\">\n  <thead>\n    <tr style=\"text-align: right;\">\n      <th></th>\n      <th>Name</th>\n      <th>Address</th>\n    </tr>\n  </thead>\n  <tbody>\n    <tr>\n      <th>0</th>\n      <td>Frank Manning</td>\n      <td>6461 Quinn Groves, East Matthew, New Hampshire...</td>\n    </tr>\n    <tr>\n      <th>1</th>\n      <td>Elizabeth Johnson</td>\n      <td>1360 Tracey Ports Apt. 419, Kyleport, Vermont,...</td>\n    </tr>\n    <tr>\n      <th>2</th>\n      <td>Donald Stephens</td>\n      <td>19120 Fleming Manors, Prestonstad, Montana, 23495</td>\n    </tr>\n    <tr>\n      <th>3</th>\n      <td>Michael Vincent III</td>\n      <td>441 Olivia Creek, Jimmymouth, Georgia, 82991</td>\n    </tr>\n    <tr>\n      <th>4</th>\n      <td>Jasmine Zamora</td>\n      <td>4246 Chelsey Ford Apt. 310, Karamouth, Utah, 7...</td>\n    </tr>\n  </tbody>\n</table>\n</div>"
     },
     "execution_count": 2,
     "metadata": {},
     "output_type": "execute_result"
    }
   ],
   "source": [
    "customers.head()"
   ],
   "metadata": {
    "collapsed": false,
    "pycharm": {
     "name": "#%%\n"
    }
   }
  },
  {
   "cell_type": "code",
   "execution_count": 3,
   "outputs": [
    {
     "data": {
      "text/plain": "0    13\n1    17\n2    15\n3    19\n4    14\nName: Name, dtype: int64"
     },
     "execution_count": 3,
     "metadata": {},
     "output_type": "execute_result"
    }
   ],
   "source": [
    "customers['Name'].str.len().head()"
   ],
   "metadata": {
    "collapsed": false,
    "pycharm": {
     "name": "#%%\n"
    }
   }
  },
  {
   "cell_type": "code",
   "execution_count": 4,
   "outputs": [
    {
     "data": {
      "text/plain": "0           [Frank, Manning]\n1       [Elizabeth, Johnson]\n2         [Donald, Stephens]\n3    [Michael, Vincent, III]\n4          [Jasmine, Zamora]\nName: Name, dtype: object"
     },
     "execution_count": 4,
     "metadata": {},
     "output_type": "execute_result"
    }
   ],
   "source": [
    "customers['Name'].str.split().head()"
   ],
   "metadata": {
    "collapsed": false,
    "pycharm": {
     "name": "#%%\n"
    }
   }
  },
  {
   "cell_type": "code",
   "execution_count": 5,
   "outputs": [
    {
     "data": {
      "text/plain": "0    2\n1    2\n2    2\n3    3\n4    2\nName: Name, dtype: int64"
     },
     "execution_count": 5,
     "metadata": {},
     "output_type": "execute_result"
    }
   ],
   "source": [
    "customers['Name'].str.split().str.len().head()"
   ],
   "metadata": {
    "collapsed": false,
    "pycharm": {
     "name": "#%%\n"
    }
   }
  },
  {
   "cell_type": "code",
   "execution_count": 6,
   "outputs": [
    {
     "data": {
      "text/plain": "0          [Frank, Manning]\n1      [Elizabeth, Johnson]\n2        [Donald, Stephens]\n3    [Michael, Vincent III]\n4         [Jasmine, Zamora]\nName: Name, dtype: object"
     },
     "execution_count": 6,
     "metadata": {},
     "output_type": "execute_result"
    }
   ],
   "source": [
    "customers['Name'].str.split(n=1).head()"
   ],
   "metadata": {
    "collapsed": false,
    "pycharm": {
     "name": "#%%\n"
    }
   }
  },
  {
   "cell_type": "code",
   "execution_count": 7,
   "outputs": [
    {
     "data": {
      "text/plain": "0        Frank\n1    Elizabeth\n2       Donald\n3      Michael\n4      Jasmine\nName: Name, dtype: object"
     },
     "execution_count": 7,
     "metadata": {},
     "output_type": "execute_result"
    }
   ],
   "source": [
    "customers['Name'].str.split(n=1).str.get(0).head()"
   ],
   "metadata": {
    "collapsed": false,
    "pycharm": {
     "name": "#%%\n"
    }
   }
  },
  {
   "cell_type": "code",
   "execution_count": 8,
   "outputs": [
    {
     "data": {
      "text/plain": "           0            1\n0      Frank      Manning\n1  Elizabeth      Johnson\n2     Donald     Stephens\n3    Michael  Vincent III\n4    Jasmine       Zamora",
      "text/html": "<div>\n<style scoped>\n    .dataframe tbody tr th:only-of-type {\n        vertical-align: middle;\n    }\n\n    .dataframe tbody tr th {\n        vertical-align: top;\n    }\n\n    .dataframe thead th {\n        text-align: right;\n    }\n</style>\n<table border=\"1\" class=\"dataframe\">\n  <thead>\n    <tr style=\"text-align: right;\">\n      <th></th>\n      <th>0</th>\n      <th>1</th>\n    </tr>\n  </thead>\n  <tbody>\n    <tr>\n      <th>0</th>\n      <td>Frank</td>\n      <td>Manning</td>\n    </tr>\n    <tr>\n      <th>1</th>\n      <td>Elizabeth</td>\n      <td>Johnson</td>\n    </tr>\n    <tr>\n      <th>2</th>\n      <td>Donald</td>\n      <td>Stephens</td>\n    </tr>\n    <tr>\n      <th>3</th>\n      <td>Michael</td>\n      <td>Vincent III</td>\n    </tr>\n    <tr>\n      <th>4</th>\n      <td>Jasmine</td>\n      <td>Zamora</td>\n    </tr>\n  </tbody>\n</table>\n</div>"
     },
     "execution_count": 8,
     "metadata": {},
     "output_type": "execute_result"
    }
   ],
   "source": [
    "customers['Name'].str.split(n=1, expand=True).head()"
   ],
   "metadata": {
    "collapsed": false,
    "pycharm": {
     "name": "#%%\n"
    }
   }
  },
  {
   "cell_type": "code",
   "execution_count": 9,
   "outputs": [],
   "source": [
    "customers[['First Name', 'Last Name']] = customers['Name'].str.split(n=1, expand=True)"
   ],
   "metadata": {
    "collapsed": false,
    "pycharm": {
     "name": "#%%\n"
    }
   }
  },
  {
   "cell_type": "code",
   "execution_count": 10,
   "outputs": [
    {
     "data": {
      "text/plain": "                     Name                                            Address  \\\n0           Frank Manning  6461 Quinn Groves, East Matthew, New Hampshire...   \n1       Elizabeth Johnson  1360 Tracey Ports Apt. 419, Kyleport, Vermont,...   \n2         Donald Stephens  19120 Fleming Manors, Prestonstad, Montana, 23495   \n3     Michael Vincent III       441 Olivia Creek, Jimmymouth, Georgia, 82991   \n4          Jasmine Zamora  4246 Chelsey Ford Apt. 310, Karamouth, Utah, 7...   \n...                   ...                                                ...   \n9956        Dana Browning  762 Andrew Views Apt. 254, North Paul, New Mex...   \n9957      Amanda Anderson  44188 Day Crest Apt. 901, Lake Marcia, Maine, ...   \n9958           Eric Davis  73015 Michelle Squares, Watsonville, West Virg...   \n9959     Taylor Hernandez       129 Keith Greens, Haleyfurt, Oklahoma, 98916   \n9960     Sherry Nicholson   355 Griffin Valley, Davidtown, New Mexico, 17581   \n\n     First Name    Last Name  \n0         Frank      Manning  \n1     Elizabeth      Johnson  \n2        Donald     Stephens  \n3       Michael  Vincent III  \n4       Jasmine       Zamora  \n...         ...          ...  \n9956       Dana     Browning  \n9957     Amanda     Anderson  \n9958       Eric        Davis  \n9959     Taylor    Hernandez  \n9960     Sherry    Nicholson  \n\n[9961 rows x 4 columns]",
      "text/html": "<div>\n<style scoped>\n    .dataframe tbody tr th:only-of-type {\n        vertical-align: middle;\n    }\n\n    .dataframe tbody tr th {\n        vertical-align: top;\n    }\n\n    .dataframe thead th {\n        text-align: right;\n    }\n</style>\n<table border=\"1\" class=\"dataframe\">\n  <thead>\n    <tr style=\"text-align: right;\">\n      <th></th>\n      <th>Name</th>\n      <th>Address</th>\n      <th>First Name</th>\n      <th>Last Name</th>\n    </tr>\n  </thead>\n  <tbody>\n    <tr>\n      <th>0</th>\n      <td>Frank Manning</td>\n      <td>6461 Quinn Groves, East Matthew, New Hampshire...</td>\n      <td>Frank</td>\n      <td>Manning</td>\n    </tr>\n    <tr>\n      <th>1</th>\n      <td>Elizabeth Johnson</td>\n      <td>1360 Tracey Ports Apt. 419, Kyleport, Vermont,...</td>\n      <td>Elizabeth</td>\n      <td>Johnson</td>\n    </tr>\n    <tr>\n      <th>2</th>\n      <td>Donald Stephens</td>\n      <td>19120 Fleming Manors, Prestonstad, Montana, 23495</td>\n      <td>Donald</td>\n      <td>Stephens</td>\n    </tr>\n    <tr>\n      <th>3</th>\n      <td>Michael Vincent III</td>\n      <td>441 Olivia Creek, Jimmymouth, Georgia, 82991</td>\n      <td>Michael</td>\n      <td>Vincent III</td>\n    </tr>\n    <tr>\n      <th>4</th>\n      <td>Jasmine Zamora</td>\n      <td>4246 Chelsey Ford Apt. 310, Karamouth, Utah, 7...</td>\n      <td>Jasmine</td>\n      <td>Zamora</td>\n    </tr>\n    <tr>\n      <th>...</th>\n      <td>...</td>\n      <td>...</td>\n      <td>...</td>\n      <td>...</td>\n    </tr>\n    <tr>\n      <th>9956</th>\n      <td>Dana Browning</td>\n      <td>762 Andrew Views Apt. 254, North Paul, New Mex...</td>\n      <td>Dana</td>\n      <td>Browning</td>\n    </tr>\n    <tr>\n      <th>9957</th>\n      <td>Amanda Anderson</td>\n      <td>44188 Day Crest Apt. 901, Lake Marcia, Maine, ...</td>\n      <td>Amanda</td>\n      <td>Anderson</td>\n    </tr>\n    <tr>\n      <th>9958</th>\n      <td>Eric Davis</td>\n      <td>73015 Michelle Squares, Watsonville, West Virg...</td>\n      <td>Eric</td>\n      <td>Davis</td>\n    </tr>\n    <tr>\n      <th>9959</th>\n      <td>Taylor Hernandez</td>\n      <td>129 Keith Greens, Haleyfurt, Oklahoma, 98916</td>\n      <td>Taylor</td>\n      <td>Hernandez</td>\n    </tr>\n    <tr>\n      <th>9960</th>\n      <td>Sherry Nicholson</td>\n      <td>355 Griffin Valley, Davidtown, New Mexico, 17581</td>\n      <td>Sherry</td>\n      <td>Nicholson</td>\n    </tr>\n  </tbody>\n</table>\n<p>9961 rows × 4 columns</p>\n</div>"
     },
     "execution_count": 10,
     "metadata": {},
     "output_type": "execute_result"
    }
   ],
   "source": [
    "customers"
   ],
   "metadata": {
    "collapsed": false,
    "pycharm": {
     "name": "#%%\n"
    }
   }
  },
  {
   "cell_type": "code",
   "execution_count": 11,
   "outputs": [],
   "source": [
    "customers = customers.drop(columns='Name')"
   ],
   "metadata": {
    "collapsed": false,
    "pycharm": {
     "name": "#%%\n"
    }
   }
  },
  {
   "cell_type": "code",
   "execution_count": 12,
   "outputs": [
    {
     "data": {
      "text/plain": "                                             Address First Name    Last Name\n0  6461 Quinn Groves, East Matthew, New Hampshire...      Frank      Manning\n1  1360 Tracey Ports Apt. 419, Kyleport, Vermont,...  Elizabeth      Johnson\n2  19120 Fleming Manors, Prestonstad, Montana, 23495     Donald     Stephens\n3       441 Olivia Creek, Jimmymouth, Georgia, 82991    Michael  Vincent III\n4  4246 Chelsey Ford Apt. 310, Karamouth, Utah, 7...    Jasmine       Zamora",
      "text/html": "<div>\n<style scoped>\n    .dataframe tbody tr th:only-of-type {\n        vertical-align: middle;\n    }\n\n    .dataframe tbody tr th {\n        vertical-align: top;\n    }\n\n    .dataframe thead th {\n        text-align: right;\n    }\n</style>\n<table border=\"1\" class=\"dataframe\">\n  <thead>\n    <tr style=\"text-align: right;\">\n      <th></th>\n      <th>Address</th>\n      <th>First Name</th>\n      <th>Last Name</th>\n    </tr>\n  </thead>\n  <tbody>\n    <tr>\n      <th>0</th>\n      <td>6461 Quinn Groves, East Matthew, New Hampshire...</td>\n      <td>Frank</td>\n      <td>Manning</td>\n    </tr>\n    <tr>\n      <th>1</th>\n      <td>1360 Tracey Ports Apt. 419, Kyleport, Vermont,...</td>\n      <td>Elizabeth</td>\n      <td>Johnson</td>\n    </tr>\n    <tr>\n      <th>2</th>\n      <td>19120 Fleming Manors, Prestonstad, Montana, 23495</td>\n      <td>Donald</td>\n      <td>Stephens</td>\n    </tr>\n    <tr>\n      <th>3</th>\n      <td>441 Olivia Creek, Jimmymouth, Georgia, 82991</td>\n      <td>Michael</td>\n      <td>Vincent III</td>\n    </tr>\n    <tr>\n      <th>4</th>\n      <td>4246 Chelsey Ford Apt. 310, Karamouth, Utah, 7...</td>\n      <td>Jasmine</td>\n      <td>Zamora</td>\n    </tr>\n  </tbody>\n</table>\n</div>"
     },
     "execution_count": 12,
     "metadata": {},
     "output_type": "execute_result"
    }
   ],
   "source": [
    "customers.head()"
   ],
   "metadata": {
    "collapsed": false,
    "pycharm": {
     "name": "#%%\n"
    }
   }
  },
  {
   "cell_type": "code",
   "execution_count": 13,
   "outputs": [
    {
     "data": {
      "text/plain": "0    [6461 Quinn Groves,  East Matthew,  New Hampsh...\n1    [1360 Tracey Ports Apt. 419,  Kyleport,  Vermo...\n2    [19120 Fleming Manors,  Prestonstad,  Montana,...\n3    [441 Olivia Creek,  Jimmymouth,  Georgia,  82991]\n4    [4246 Chelsey Ford Apt. 310,  Karamouth,  Utah...\nName: Address, dtype: object"
     },
     "execution_count": 13,
     "metadata": {},
     "output_type": "execute_result"
    }
   ],
   "source": [
    "customers['Address'].str.split(\",\").head()"
   ],
   "metadata": {
    "collapsed": false,
    "pycharm": {
     "name": "#%%\n"
    }
   }
  },
  {
   "cell_type": "code",
   "execution_count": 16,
   "outputs": [],
   "source": [
    "customers[[\"Street\", \"City\", \"State\", \"Zip\"]] = customers['Address'].str.split(\",\", n=4, expand=True)"
   ],
   "metadata": {
    "collapsed": false,
    "pycharm": {
     "name": "#%%\n"
    }
   }
  },
  {
   "cell_type": "code",
   "execution_count": 17,
   "outputs": [
    {
     "data": {
      "text/plain": "                                             Address First Name    Last Name  \\\n0  6461 Quinn Groves, East Matthew, New Hampshire...      Frank      Manning   \n1  1360 Tracey Ports Apt. 419, Kyleport, Vermont,...  Elizabeth      Johnson   \n2  19120 Fleming Manors, Prestonstad, Montana, 23495     Donald     Stephens   \n3       441 Olivia Creek, Jimmymouth, Georgia, 82991    Michael  Vincent III   \n4  4246 Chelsey Ford Apt. 310, Karamouth, Utah, 7...    Jasmine       Zamora   \n\n                       Street           City           State     Zip  \n0           6461 Quinn Groves   East Matthew   New Hampshire   16656  \n1  1360 Tracey Ports Apt. 419       Kyleport         Vermont   31924  \n2        19120 Fleming Manors    Prestonstad         Montana   23495  \n3            441 Olivia Creek     Jimmymouth         Georgia   82991  \n4  4246 Chelsey Ford Apt. 310      Karamouth            Utah   76252  ",
      "text/html": "<div>\n<style scoped>\n    .dataframe tbody tr th:only-of-type {\n        vertical-align: middle;\n    }\n\n    .dataframe tbody tr th {\n        vertical-align: top;\n    }\n\n    .dataframe thead th {\n        text-align: right;\n    }\n</style>\n<table border=\"1\" class=\"dataframe\">\n  <thead>\n    <tr style=\"text-align: right;\">\n      <th></th>\n      <th>Address</th>\n      <th>First Name</th>\n      <th>Last Name</th>\n      <th>Street</th>\n      <th>City</th>\n      <th>State</th>\n      <th>Zip</th>\n    </tr>\n  </thead>\n  <tbody>\n    <tr>\n      <th>0</th>\n      <td>6461 Quinn Groves, East Matthew, New Hampshire...</td>\n      <td>Frank</td>\n      <td>Manning</td>\n      <td>6461 Quinn Groves</td>\n      <td>East Matthew</td>\n      <td>New Hampshire</td>\n      <td>16656</td>\n    </tr>\n    <tr>\n      <th>1</th>\n      <td>1360 Tracey Ports Apt. 419, Kyleport, Vermont,...</td>\n      <td>Elizabeth</td>\n      <td>Johnson</td>\n      <td>1360 Tracey Ports Apt. 419</td>\n      <td>Kyleport</td>\n      <td>Vermont</td>\n      <td>31924</td>\n    </tr>\n    <tr>\n      <th>2</th>\n      <td>19120 Fleming Manors, Prestonstad, Montana, 23495</td>\n      <td>Donald</td>\n      <td>Stephens</td>\n      <td>19120 Fleming Manors</td>\n      <td>Prestonstad</td>\n      <td>Montana</td>\n      <td>23495</td>\n    </tr>\n    <tr>\n      <th>3</th>\n      <td>441 Olivia Creek, Jimmymouth, Georgia, 82991</td>\n      <td>Michael</td>\n      <td>Vincent III</td>\n      <td>441 Olivia Creek</td>\n      <td>Jimmymouth</td>\n      <td>Georgia</td>\n      <td>82991</td>\n    </tr>\n    <tr>\n      <th>4</th>\n      <td>4246 Chelsey Ford Apt. 310, Karamouth, Utah, 7...</td>\n      <td>Jasmine</td>\n      <td>Zamora</td>\n      <td>4246 Chelsey Ford Apt. 310</td>\n      <td>Karamouth</td>\n      <td>Utah</td>\n      <td>76252</td>\n    </tr>\n  </tbody>\n</table>\n</div>"
     },
     "execution_count": 17,
     "metadata": {},
     "output_type": "execute_result"
    }
   ],
   "source": [
    "customers.head()\n"
   ],
   "metadata": {
    "collapsed": false,
    "pycharm": {
     "name": "#%%\n"
    }
   }
  },
  {
   "cell_type": "code",
   "execution_count": 18,
   "outputs": [
    {
     "data": {
      "text/plain": "     First Name    Last Name                      Street           City  \\\n0         Frank      Manning           6461 Quinn Groves   East Matthew   \n1     Elizabeth      Johnson  1360 Tracey Ports Apt. 419       Kyleport   \n2        Donald     Stephens        19120 Fleming Manors    Prestonstad   \n3       Michael  Vincent III            441 Olivia Creek     Jimmymouth   \n4       Jasmine       Zamora  4246 Chelsey Ford Apt. 310      Karamouth   \n...         ...          ...                         ...            ...   \n9956       Dana     Browning   762 Andrew Views Apt. 254     North Paul   \n9957     Amanda     Anderson    44188 Day Crest Apt. 901    Lake Marcia   \n9958       Eric        Davis      73015 Michelle Squares    Watsonville   \n9959     Taylor    Hernandez            129 Keith Greens      Haleyfurt   \n9960     Sherry    Nicholson          355 Griffin Valley      Davidtown   \n\n               State     Zip  \n0      New Hampshire   16656  \n1            Vermont   31924  \n2            Montana   23495  \n3            Georgia   82991  \n4               Utah   76252  \n...              ...     ...  \n9956      New Mexico   28889  \n9957           Maine   37378  \n9958   West Virginia   03933  \n9959        Oklahoma   98916  \n9960      New Mexico   17581  \n\n[9961 rows x 6 columns]",
      "text/html": "<div>\n<style scoped>\n    .dataframe tbody tr th:only-of-type {\n        vertical-align: middle;\n    }\n\n    .dataframe tbody tr th {\n        vertical-align: top;\n    }\n\n    .dataframe thead th {\n        text-align: right;\n    }\n</style>\n<table border=\"1\" class=\"dataframe\">\n  <thead>\n    <tr style=\"text-align: right;\">\n      <th></th>\n      <th>First Name</th>\n      <th>Last Name</th>\n      <th>Street</th>\n      <th>City</th>\n      <th>State</th>\n      <th>Zip</th>\n    </tr>\n  </thead>\n  <tbody>\n    <tr>\n      <th>0</th>\n      <td>Frank</td>\n      <td>Manning</td>\n      <td>6461 Quinn Groves</td>\n      <td>East Matthew</td>\n      <td>New Hampshire</td>\n      <td>16656</td>\n    </tr>\n    <tr>\n      <th>1</th>\n      <td>Elizabeth</td>\n      <td>Johnson</td>\n      <td>1360 Tracey Ports Apt. 419</td>\n      <td>Kyleport</td>\n      <td>Vermont</td>\n      <td>31924</td>\n    </tr>\n    <tr>\n      <th>2</th>\n      <td>Donald</td>\n      <td>Stephens</td>\n      <td>19120 Fleming Manors</td>\n      <td>Prestonstad</td>\n      <td>Montana</td>\n      <td>23495</td>\n    </tr>\n    <tr>\n      <th>3</th>\n      <td>Michael</td>\n      <td>Vincent III</td>\n      <td>441 Olivia Creek</td>\n      <td>Jimmymouth</td>\n      <td>Georgia</td>\n      <td>82991</td>\n    </tr>\n    <tr>\n      <th>4</th>\n      <td>Jasmine</td>\n      <td>Zamora</td>\n      <td>4246 Chelsey Ford Apt. 310</td>\n      <td>Karamouth</td>\n      <td>Utah</td>\n      <td>76252</td>\n    </tr>\n    <tr>\n      <th>...</th>\n      <td>...</td>\n      <td>...</td>\n      <td>...</td>\n      <td>...</td>\n      <td>...</td>\n      <td>...</td>\n    </tr>\n    <tr>\n      <th>9956</th>\n      <td>Dana</td>\n      <td>Browning</td>\n      <td>762 Andrew Views Apt. 254</td>\n      <td>North Paul</td>\n      <td>New Mexico</td>\n      <td>28889</td>\n    </tr>\n    <tr>\n      <th>9957</th>\n      <td>Amanda</td>\n      <td>Anderson</td>\n      <td>44188 Day Crest Apt. 901</td>\n      <td>Lake Marcia</td>\n      <td>Maine</td>\n      <td>37378</td>\n    </tr>\n    <tr>\n      <th>9958</th>\n      <td>Eric</td>\n      <td>Davis</td>\n      <td>73015 Michelle Squares</td>\n      <td>Watsonville</td>\n      <td>West Virginia</td>\n      <td>03933</td>\n    </tr>\n    <tr>\n      <th>9959</th>\n      <td>Taylor</td>\n      <td>Hernandez</td>\n      <td>129 Keith Greens</td>\n      <td>Haleyfurt</td>\n      <td>Oklahoma</td>\n      <td>98916</td>\n    </tr>\n    <tr>\n      <th>9960</th>\n      <td>Sherry</td>\n      <td>Nicholson</td>\n      <td>355 Griffin Valley</td>\n      <td>Davidtown</td>\n      <td>New Mexico</td>\n      <td>17581</td>\n    </tr>\n  </tbody>\n</table>\n<p>9961 rows × 6 columns</p>\n</div>"
     },
     "execution_count": 18,
     "metadata": {},
     "output_type": "execute_result"
    }
   ],
   "source": [
    "customers.drop(columns=\"Address\")"
   ],
   "metadata": {
    "collapsed": false,
    "pycharm": {
     "name": "#%%\n"
    }
   }
  },
  {
   "cell_type": "code",
   "execution_count": 19,
   "outputs": [
    {
     "data": {
      "text/plain": "                                             Address First Name    Last Name  \\\n0  6461 Quinn Groves, East Matthew, New Hampshire...      Frank      Manning   \n1  1360 Tracey Ports Apt. 419, Kyleport, Vermont,...  Elizabeth      Johnson   \n2  19120 Fleming Manors, Prestonstad, Montana, 23495     Donald     Stephens   \n3       441 Olivia Creek, Jimmymouth, Georgia, 82991    Michael  Vincent III   \n4  4246 Chelsey Ford Apt. 310, Karamouth, Utah, 7...    Jasmine       Zamora   \n\n                       Street           City           State     Zip  \n0           6461 Quinn Groves   East Matthew   New Hampshire   16656  \n1  1360 Tracey Ports Apt. 419       Kyleport         Vermont   31924  \n2        19120 Fleming Manors    Prestonstad         Montana   23495  \n3            441 Olivia Creek     Jimmymouth         Georgia   82991  \n4  4246 Chelsey Ford Apt. 310      Karamouth            Utah   76252  ",
      "text/html": "<div>\n<style scoped>\n    .dataframe tbody tr th:only-of-type {\n        vertical-align: middle;\n    }\n\n    .dataframe tbody tr th {\n        vertical-align: top;\n    }\n\n    .dataframe thead th {\n        text-align: right;\n    }\n</style>\n<table border=\"1\" class=\"dataframe\">\n  <thead>\n    <tr style=\"text-align: right;\">\n      <th></th>\n      <th>Address</th>\n      <th>First Name</th>\n      <th>Last Name</th>\n      <th>Street</th>\n      <th>City</th>\n      <th>State</th>\n      <th>Zip</th>\n    </tr>\n  </thead>\n  <tbody>\n    <tr>\n      <th>0</th>\n      <td>6461 Quinn Groves, East Matthew, New Hampshire...</td>\n      <td>Frank</td>\n      <td>Manning</td>\n      <td>6461 Quinn Groves</td>\n      <td>East Matthew</td>\n      <td>New Hampshire</td>\n      <td>16656</td>\n    </tr>\n    <tr>\n      <th>1</th>\n      <td>1360 Tracey Ports Apt. 419, Kyleport, Vermont,...</td>\n      <td>Elizabeth</td>\n      <td>Johnson</td>\n      <td>1360 Tracey Ports Apt. 419</td>\n      <td>Kyleport</td>\n      <td>Vermont</td>\n      <td>31924</td>\n    </tr>\n    <tr>\n      <th>2</th>\n      <td>19120 Fleming Manors, Prestonstad, Montana, 23495</td>\n      <td>Donald</td>\n      <td>Stephens</td>\n      <td>19120 Fleming Manors</td>\n      <td>Prestonstad</td>\n      <td>Montana</td>\n      <td>23495</td>\n    </tr>\n    <tr>\n      <th>3</th>\n      <td>441 Olivia Creek, Jimmymouth, Georgia, 82991</td>\n      <td>Michael</td>\n      <td>Vincent III</td>\n      <td>441 Olivia Creek</td>\n      <td>Jimmymouth</td>\n      <td>Georgia</td>\n      <td>82991</td>\n    </tr>\n    <tr>\n      <th>4</th>\n      <td>4246 Chelsey Ford Apt. 310, Karamouth, Utah, 7...</td>\n      <td>Jasmine</td>\n      <td>Zamora</td>\n      <td>4246 Chelsey Ford Apt. 310</td>\n      <td>Karamouth</td>\n      <td>Utah</td>\n      <td>76252</td>\n    </tr>\n  </tbody>\n</table>\n</div>"
     },
     "execution_count": 19,
     "metadata": {},
     "output_type": "execute_result"
    }
   ],
   "source": [
    "customers.head()"
   ],
   "metadata": {
    "collapsed": false,
    "pycharm": {
     "name": "#%%\n"
    }
   }
  },
  {
   "cell_type": "code",
   "execution_count": 20,
   "outputs": [
    {
     "data": {
      "text/plain": "  First Name    Last Name                      Street           City  \\\n0      Frank      Manning           6461 Quinn Groves   East Matthew   \n1  Elizabeth      Johnson  1360 Tracey Ports Apt. 419       Kyleport   \n2     Donald     Stephens        19120 Fleming Manors    Prestonstad   \n3    Michael  Vincent III            441 Olivia Creek     Jimmymouth   \n4    Jasmine       Zamora  4246 Chelsey Ford Apt. 310      Karamouth   \n\n            State     Zip  \n0   New Hampshire   16656  \n1         Vermont   31924  \n2         Montana   23495  \n3         Georgia   82991  \n4            Utah   76252  ",
      "text/html": "<div>\n<style scoped>\n    .dataframe tbody tr th:only-of-type {\n        vertical-align: middle;\n    }\n\n    .dataframe tbody tr th {\n        vertical-align: top;\n    }\n\n    .dataframe thead th {\n        text-align: right;\n    }\n</style>\n<table border=\"1\" class=\"dataframe\">\n  <thead>\n    <tr style=\"text-align: right;\">\n      <th></th>\n      <th>First Name</th>\n      <th>Last Name</th>\n      <th>Street</th>\n      <th>City</th>\n      <th>State</th>\n      <th>Zip</th>\n    </tr>\n  </thead>\n  <tbody>\n    <tr>\n      <th>0</th>\n      <td>Frank</td>\n      <td>Manning</td>\n      <td>6461 Quinn Groves</td>\n      <td>East Matthew</td>\n      <td>New Hampshire</td>\n      <td>16656</td>\n    </tr>\n    <tr>\n      <th>1</th>\n      <td>Elizabeth</td>\n      <td>Johnson</td>\n      <td>1360 Tracey Ports Apt. 419</td>\n      <td>Kyleport</td>\n      <td>Vermont</td>\n      <td>31924</td>\n    </tr>\n    <tr>\n      <th>2</th>\n      <td>Donald</td>\n      <td>Stephens</td>\n      <td>19120 Fleming Manors</td>\n      <td>Prestonstad</td>\n      <td>Montana</td>\n      <td>23495</td>\n    </tr>\n    <tr>\n      <th>3</th>\n      <td>Michael</td>\n      <td>Vincent III</td>\n      <td>441 Olivia Creek</td>\n      <td>Jimmymouth</td>\n      <td>Georgia</td>\n      <td>82991</td>\n    </tr>\n    <tr>\n      <th>4</th>\n      <td>Jasmine</td>\n      <td>Zamora</td>\n      <td>4246 Chelsey Ford Apt. 310</td>\n      <td>Karamouth</td>\n      <td>Utah</td>\n      <td>76252</td>\n    </tr>\n  </tbody>\n</table>\n</div>"
     },
     "execution_count": 20,
     "metadata": {},
     "output_type": "execute_result"
    }
   ],
   "source": [
    "customers = customers.drop(columns='Address')\n",
    "customers.head()"
   ],
   "metadata": {
    "collapsed": false,
    "pycharm": {
     "name": "#%%\n"
    }
   }
  },
  {
   "cell_type": "code",
   "execution_count": null,
   "outputs": [],
   "source": [],
   "metadata": {
    "collapsed": false,
    "pycharm": {
     "name": "#%%\n"
    }
   }
  }
 ],
 "metadata": {
  "kernelspec": {
   "display_name": "Python 3",
   "language": "python",
   "name": "python3"
  },
  "language_info": {
   "codemirror_mode": {
    "name": "ipython",
    "version": 2
   },
   "file_extension": ".py",
   "mimetype": "text/x-python",
   "name": "python",
   "nbconvert_exporter": "python",
   "pygments_lexer": "ipython2",
   "version": "2.7.6"
  }
 },
 "nbformat": 4,
 "nbformat_minor": 0
}